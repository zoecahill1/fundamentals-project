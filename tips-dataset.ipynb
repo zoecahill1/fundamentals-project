{
 "cells": [
  {
   "cell_type": "markdown",
   "metadata": {},
   "source": [
    "# Tips Dataset Analysis"
   ]
  },
  {
   "cell_type": "markdown",
   "metadata": {},
   "source": [
    "## Table of Contents <a class=\"ancor\" id=\"contents\"/>\n",
    "\n",
    "1. [Introduction](#intro)\n",
    "1. [Summary Statistics](#summary-stats)\n",
    "    1. [Numerical Variables](#numerical)\n",
    "    1. [Categorical Variables](#categorical)\n",
    "1. [Visualising the Data](#plots)\n",
    "    1. [Distribution of Tip Amount](#distTip)\n",
    "    1. [Investigating Tip and Total Bill](#tipBill)\n",
    "        <br>- [Tip and Total Bill](#tipBill1)\n",
    "        <br>- [Tip and Total Bill by Gender](#tipBill2)\n",
    "        <br>- [Tip and Total Bill by Gender and Smoking Table](#tipBill3)\n",
    "    1. [Distribution of Tip Rate](#tiprate)\n",
    "    1. [Table Size, Day and Time of Day](#dayTime)\n"
   ]
  },
  {
   "cell_type": "markdown",
   "metadata": {},
   "source": [
    "## Introduction <a class=\"ancor\" id=\"intro\"/>\n",
    "This is an analysis of a famous dataset known as the tips dataset. In one particular restaurant, a waiter collected data on all the customers they served over a few months [1].\n",
    "\n",
    "A server's tips can be greatly influenced by various different things, many of which our waiter recorded! So the big question we are going to try and address throughout this project is do any of these factors affect tip rate, and if so how much do they influence tip rate?"
   ]
  },
  {
   "cell_type": "code",
   "execution_count": 2,
   "metadata": {},
   "outputs": [],
   "source": [
    "import seaborn as sns\n",
    "import pandas as pd\n",
    "import matplotlib.pyplot as plt\n",
    "import numpy as np\n",
    "import statsmodels.api as sm\n",
    "from statsmodels.formula.api import ols\n",
    "import scipy.stats\n",
    "\n",
    "# Adjust size to make plots a little bigger\n",
    "plt.rcParams[\"figure.figsize\"] = (15,7)"
   ]
  },
  {
   "cell_type": "code",
   "execution_count": 3,
   "metadata": {
    "scrolled": true
   },
   "outputs": [
    {
     "data": {
      "text/html": [
       "<div>\n",
       "<style scoped>\n",
       "    .dataframe tbody tr th:only-of-type {\n",
       "        vertical-align: middle;\n",
       "    }\n",
       "\n",
       "    .dataframe tbody tr th {\n",
       "        vertical-align: top;\n",
       "    }\n",
       "\n",
       "    .dataframe thead th {\n",
       "        text-align: right;\n",
       "    }\n",
       "</style>\n",
       "<table border=\"1\" class=\"dataframe\">\n",
       "  <thead>\n",
       "    <tr style=\"text-align: right;\">\n",
       "      <th></th>\n",
       "      <th>total_bill</th>\n",
       "      <th>tip</th>\n",
       "      <th>sex</th>\n",
       "      <th>smoker</th>\n",
       "      <th>day</th>\n",
       "      <th>time</th>\n",
       "      <th>size</th>\n",
       "    </tr>\n",
       "  </thead>\n",
       "  <tbody>\n",
       "    <tr>\n",
       "      <th>0</th>\n",
       "      <td>16.99</td>\n",
       "      <td>1.01</td>\n",
       "      <td>Female</td>\n",
       "      <td>No</td>\n",
       "      <td>Sun</td>\n",
       "      <td>Dinner</td>\n",
       "      <td>2</td>\n",
       "    </tr>\n",
       "    <tr>\n",
       "      <th>1</th>\n",
       "      <td>10.34</td>\n",
       "      <td>1.66</td>\n",
       "      <td>Male</td>\n",
       "      <td>No</td>\n",
       "      <td>Sun</td>\n",
       "      <td>Dinner</td>\n",
       "      <td>3</td>\n",
       "    </tr>\n",
       "    <tr>\n",
       "      <th>2</th>\n",
       "      <td>21.01</td>\n",
       "      <td>3.50</td>\n",
       "      <td>Male</td>\n",
       "      <td>No</td>\n",
       "      <td>Sun</td>\n",
       "      <td>Dinner</td>\n",
       "      <td>3</td>\n",
       "    </tr>\n",
       "    <tr>\n",
       "      <th>3</th>\n",
       "      <td>23.68</td>\n",
       "      <td>3.31</td>\n",
       "      <td>Male</td>\n",
       "      <td>No</td>\n",
       "      <td>Sun</td>\n",
       "      <td>Dinner</td>\n",
       "      <td>2</td>\n",
       "    </tr>\n",
       "    <tr>\n",
       "      <th>4</th>\n",
       "      <td>24.59</td>\n",
       "      <td>3.61</td>\n",
       "      <td>Female</td>\n",
       "      <td>No</td>\n",
       "      <td>Sun</td>\n",
       "      <td>Dinner</td>\n",
       "      <td>4</td>\n",
       "    </tr>\n",
       "  </tbody>\n",
       "</table>\n",
       "</div>"
      ],
      "text/plain": [
       "   total_bill   tip     sex smoker  day    time  size\n",
       "0       16.99  1.01  Female     No  Sun  Dinner     2\n",
       "1       10.34  1.66    Male     No  Sun  Dinner     3\n",
       "2       21.01  3.50    Male     No  Sun  Dinner     3\n",
       "3       23.68  3.31    Male     No  Sun  Dinner     2\n",
       "4       24.59  3.61  Female     No  Sun  Dinner     4"
      ]
     },
     "execution_count": 3,
     "metadata": {},
     "output_type": "execute_result"
    }
   ],
   "source": [
    "# Loading the tips dataset from seaborn\n",
    "tips = sns.load_dataset(\"tips\")\n",
    "\n",
    "# Load the first few rows to get a look at the data\n",
    "tips.head()"
   ]
  },
  {
   "cell_type": "markdown",
   "metadata": {},
   "source": [
    "After an initial look at the dataset we can see the various columns. The type of data the tips dataset contains is as follows: \n",
    "\n",
    "- total_bill = the total bill, including tax, in US dollars\n",
    "- tip = the tip in US dollars\n",
    "- sex = the gender of the person paying bill (either male or female)\n",
    "- smoker = indicates if the table was seated in the smoking area or not\n",
    "- day = indicates the day on which the meal is served. Clearly the waiter only worked on Thursday, Friday, Saturday and Sundays.\n",
    "- time = indicate what type of meal they were having either dinner or lunch\n",
    "- size = how many people were at the table\n",
    "\n",
    "Because we are looking at tipping, this is normally expressed as a percentage of the bill. Therefore to help with analysis I will be adding a tip rate column to my dataset. "
   ]
  },
  {
   "cell_type": "code",
   "execution_count": 4,
   "metadata": {},
   "outputs": [],
   "source": [
    "# Adding tiprate variable to dataset so we can see percentage\n",
    "tips['tiprate'] = tips.tip/tips.total_bill * 100"
   ]
  },
  {
   "cell_type": "markdown",
   "metadata": {},
   "source": [
    "So we have taken a first look at our data just to get a sense of it, next we will check a few things to see if we can make any general observations about the data. I'm also going to have a look and see if there is any missing data that might disrupt our analysis."
   ]
  },
  {
   "cell_type": "code",
   "execution_count": 5,
   "metadata": {},
   "outputs": [
    {
     "data": {
      "text/plain": [
       "(244, 8)"
      ]
     },
     "execution_count": 5,
     "metadata": {},
     "output_type": "execute_result"
    }
   ],
   "source": [
    "tips.shape"
   ]
  },
  {
   "cell_type": "code",
   "execution_count": 6,
   "metadata": {},
   "outputs": [
    {
     "data": {
      "text/plain": [
       "['total_bill', 'tip', 'sex', 'smoker', 'day', 'time', 'size', 'tiprate']"
      ]
     },
     "execution_count": 6,
     "metadata": {},
     "output_type": "execute_result"
    }
   ],
   "source": [
    "# Column names\n",
    "list(tips)"
   ]
  },
  {
   "cell_type": "code",
   "execution_count": 7,
   "metadata": {},
   "outputs": [
    {
     "name": "stdout",
     "output_type": "stream",
     "text": [
      "<class 'pandas.core.frame.DataFrame'>\n",
      "RangeIndex: 244 entries, 0 to 243\n",
      "Data columns (total 8 columns):\n",
      "total_bill    244 non-null float64\n",
      "tip           244 non-null float64\n",
      "sex           244 non-null category\n",
      "smoker        244 non-null category\n",
      "day           244 non-null category\n",
      "time          244 non-null category\n",
      "size          244 non-null int64\n",
      "tiprate       244 non-null float64\n",
      "dtypes: category(4), float64(3), int64(1)\n",
      "memory usage: 9.1 KB\n"
     ]
    }
   ],
   "source": [
    "tips.info()"
   ]
  },
  {
   "cell_type": "markdown",
   "metadata": {},
   "source": [
    "So we can see our data set has 244 rows and 8 columns (originally 7 but we added the 8th 'tiprate'). We also had a look at the column names, which match up with the descriptions I found earlier for our dataset. There are also no non-nulls meaning no missing data and all of the data types seem fine. So we can start analysing!"
   ]
  },
  {
   "cell_type": "markdown",
   "metadata": {},
   "source": [
    "## Summary Statistics <a class=\"ancor\" id=\"summary-stats\"/>\n",
    "### Numerical Variables <a class=\"ancor\" id=\"numerical\"/>"
   ]
  },
  {
   "cell_type": "code",
   "execution_count": 8,
   "metadata": {},
   "outputs": [
    {
     "data": {
      "text/html": [
       "<div>\n",
       "<style scoped>\n",
       "    .dataframe tbody tr th:only-of-type {\n",
       "        vertical-align: middle;\n",
       "    }\n",
       "\n",
       "    .dataframe tbody tr th {\n",
       "        vertical-align: top;\n",
       "    }\n",
       "\n",
       "    .dataframe thead th {\n",
       "        text-align: right;\n",
       "    }\n",
       "</style>\n",
       "<table border=\"1\" class=\"dataframe\">\n",
       "  <thead>\n",
       "    <tr style=\"text-align: right;\">\n",
       "      <th></th>\n",
       "      <th>total_bill</th>\n",
       "      <th>tip</th>\n",
       "      <th>size</th>\n",
       "      <th>tiprate</th>\n",
       "    </tr>\n",
       "  </thead>\n",
       "  <tbody>\n",
       "    <tr>\n",
       "      <th>count</th>\n",
       "      <td>244.000000</td>\n",
       "      <td>244.000000</td>\n",
       "      <td>244.000000</td>\n",
       "      <td>244.000000</td>\n",
       "    </tr>\n",
       "    <tr>\n",
       "      <th>mean</th>\n",
       "      <td>19.785943</td>\n",
       "      <td>2.998279</td>\n",
       "      <td>2.569672</td>\n",
       "      <td>16.080258</td>\n",
       "    </tr>\n",
       "    <tr>\n",
       "      <th>std</th>\n",
       "      <td>8.902412</td>\n",
       "      <td>1.383638</td>\n",
       "      <td>0.951100</td>\n",
       "      <td>6.107220</td>\n",
       "    </tr>\n",
       "    <tr>\n",
       "      <th>min</th>\n",
       "      <td>3.070000</td>\n",
       "      <td>1.000000</td>\n",
       "      <td>1.000000</td>\n",
       "      <td>3.563814</td>\n",
       "    </tr>\n",
       "    <tr>\n",
       "      <th>25%</th>\n",
       "      <td>13.347500</td>\n",
       "      <td>2.000000</td>\n",
       "      <td>2.000000</td>\n",
       "      <td>12.912736</td>\n",
       "    </tr>\n",
       "    <tr>\n",
       "      <th>50%</th>\n",
       "      <td>17.795000</td>\n",
       "      <td>2.900000</td>\n",
       "      <td>2.000000</td>\n",
       "      <td>15.476977</td>\n",
       "    </tr>\n",
       "    <tr>\n",
       "      <th>75%</th>\n",
       "      <td>24.127500</td>\n",
       "      <td>3.562500</td>\n",
       "      <td>3.000000</td>\n",
       "      <td>19.147549</td>\n",
       "    </tr>\n",
       "    <tr>\n",
       "      <th>max</th>\n",
       "      <td>50.810000</td>\n",
       "      <td>10.000000</td>\n",
       "      <td>6.000000</td>\n",
       "      <td>71.034483</td>\n",
       "    </tr>\n",
       "  </tbody>\n",
       "</table>\n",
       "</div>"
      ],
      "text/plain": [
       "       total_bill         tip        size     tiprate\n",
       "count  244.000000  244.000000  244.000000  244.000000\n",
       "mean    19.785943    2.998279    2.569672   16.080258\n",
       "std      8.902412    1.383638    0.951100    6.107220\n",
       "min      3.070000    1.000000    1.000000    3.563814\n",
       "25%     13.347500    2.000000    2.000000   12.912736\n",
       "50%     17.795000    2.900000    2.000000   15.476977\n",
       "75%     24.127500    3.562500    3.000000   19.147549\n",
       "max     50.810000   10.000000    6.000000   71.034483"
      ]
     },
     "execution_count": 8,
     "metadata": {},
     "output_type": "execute_result"
    }
   ],
   "source": [
    "tips.describe()"
   ]
  },
  {
   "cell_type": "code",
   "execution_count": 9,
   "metadata": {},
   "outputs": [
    {
     "name": "stdout",
     "output_type": "stream",
     "text": [
      "4827.77\n",
      "731.58\n"
     ]
    }
   ],
   "source": [
    "print(tips.total_bill.sum())\n",
    "print(round(tips.tip.sum(), 2))"
   ]
  },
  {
   "cell_type": "markdown",
   "metadata": {},
   "source": [
    "So from the describe() we can see that the count matches the shape we looked at earlier, so no variables seem to be missing in these columns. \n",
    "\n",
    "The average tip is \\\\$3 and the average tiprate for this restaurant is about 16%. The average bill is about \\\\$20 dollars, with the lowest bill being \\\\$3.07 and the highest \\\\$50.81. \n",
    "\n",
    "So it doesn't seem to be a particularly expensive restaurant and the tipping is fairly standard if not a little low (assuming an average tipping rate of 15 - 20\\% in USA for standard service). The total takings over the 4 day period is  \\\\$4827.77 and the total tips taken in was \\\\$731.58\n",
    "\n",
    "The average number of people per table is 2.5, with the biggest table seating 6 people and the lowest being 1 person."
   ]
  },
  {
   "cell_type": "code",
   "execution_count": 10,
   "metadata": {
    "scrolled": true
   },
   "outputs": [
    {
     "data": {
      "text/html": [
       "<div>\n",
       "<style scoped>\n",
       "    .dataframe tbody tr th:only-of-type {\n",
       "        vertical-align: middle;\n",
       "    }\n",
       "\n",
       "    .dataframe tbody tr th {\n",
       "        vertical-align: top;\n",
       "    }\n",
       "\n",
       "    .dataframe thead th {\n",
       "        text-align: right;\n",
       "    }\n",
       "</style>\n",
       "<table border=\"1\" class=\"dataframe\">\n",
       "  <thead>\n",
       "    <tr style=\"text-align: right;\">\n",
       "      <th></th>\n",
       "      <th>total_bill</th>\n",
       "      <th>tip</th>\n",
       "      <th>sex</th>\n",
       "      <th>smoker</th>\n",
       "      <th>day</th>\n",
       "      <th>time</th>\n",
       "      <th>size</th>\n",
       "      <th>tiprate</th>\n",
       "    </tr>\n",
       "  </thead>\n",
       "  <tbody>\n",
       "    <tr>\n",
       "      <th>172</th>\n",
       "      <td>7.25</td>\n",
       "      <td>5.15</td>\n",
       "      <td>Male</td>\n",
       "      <td>Yes</td>\n",
       "      <td>Sun</td>\n",
       "      <td>Dinner</td>\n",
       "      <td>2</td>\n",
       "      <td>71.034483</td>\n",
       "    </tr>\n",
       "    <tr>\n",
       "      <th>178</th>\n",
       "      <td>9.60</td>\n",
       "      <td>4.00</td>\n",
       "      <td>Female</td>\n",
       "      <td>Yes</td>\n",
       "      <td>Sun</td>\n",
       "      <td>Dinner</td>\n",
       "      <td>2</td>\n",
       "      <td>41.666667</td>\n",
       "    </tr>\n",
       "    <tr>\n",
       "      <th>67</th>\n",
       "      <td>3.07</td>\n",
       "      <td>1.00</td>\n",
       "      <td>Female</td>\n",
       "      <td>Yes</td>\n",
       "      <td>Sat</td>\n",
       "      <td>Dinner</td>\n",
       "      <td>1</td>\n",
       "      <td>32.573290</td>\n",
       "    </tr>\n",
       "    <tr>\n",
       "      <th>232</th>\n",
       "      <td>11.61</td>\n",
       "      <td>3.39</td>\n",
       "      <td>Male</td>\n",
       "      <td>No</td>\n",
       "      <td>Sat</td>\n",
       "      <td>Dinner</td>\n",
       "      <td>2</td>\n",
       "      <td>29.198966</td>\n",
       "    </tr>\n",
       "    <tr>\n",
       "      <th>183</th>\n",
       "      <td>23.17</td>\n",
       "      <td>6.50</td>\n",
       "      <td>Male</td>\n",
       "      <td>Yes</td>\n",
       "      <td>Sun</td>\n",
       "      <td>Dinner</td>\n",
       "      <td>4</td>\n",
       "      <td>28.053517</td>\n",
       "    </tr>\n",
       "    <tr>\n",
       "      <th>109</th>\n",
       "      <td>14.31</td>\n",
       "      <td>4.00</td>\n",
       "      <td>Female</td>\n",
       "      <td>Yes</td>\n",
       "      <td>Sat</td>\n",
       "      <td>Dinner</td>\n",
       "      <td>2</td>\n",
       "      <td>27.952481</td>\n",
       "    </tr>\n",
       "    <tr>\n",
       "      <th>149</th>\n",
       "      <td>7.51</td>\n",
       "      <td>2.00</td>\n",
       "      <td>Male</td>\n",
       "      <td>No</td>\n",
       "      <td>Thur</td>\n",
       "      <td>Lunch</td>\n",
       "      <td>2</td>\n",
       "      <td>26.631158</td>\n",
       "    </tr>\n",
       "    <tr>\n",
       "      <th>93</th>\n",
       "      <td>16.32</td>\n",
       "      <td>4.30</td>\n",
       "      <td>Female</td>\n",
       "      <td>Yes</td>\n",
       "      <td>Fri</td>\n",
       "      <td>Dinner</td>\n",
       "      <td>2</td>\n",
       "      <td>26.348039</td>\n",
       "    </tr>\n",
       "    <tr>\n",
       "      <th>221</th>\n",
       "      <td>13.42</td>\n",
       "      <td>3.48</td>\n",
       "      <td>Female</td>\n",
       "      <td>Yes</td>\n",
       "      <td>Fri</td>\n",
       "      <td>Lunch</td>\n",
       "      <td>2</td>\n",
       "      <td>25.931446</td>\n",
       "    </tr>\n",
       "    <tr>\n",
       "      <th>51</th>\n",
       "      <td>10.29</td>\n",
       "      <td>2.60</td>\n",
       "      <td>Female</td>\n",
       "      <td>No</td>\n",
       "      <td>Sun</td>\n",
       "      <td>Dinner</td>\n",
       "      <td>2</td>\n",
       "      <td>25.267250</td>\n",
       "    </tr>\n",
       "    <tr>\n",
       "      <th>181</th>\n",
       "      <td>23.33</td>\n",
       "      <td>5.65</td>\n",
       "      <td>Male</td>\n",
       "      <td>Yes</td>\n",
       "      <td>Sun</td>\n",
       "      <td>Dinner</td>\n",
       "      <td>2</td>\n",
       "      <td>24.217745</td>\n",
       "    </tr>\n",
       "    <tr>\n",
       "      <th>185</th>\n",
       "      <td>20.69</td>\n",
       "      <td>5.00</td>\n",
       "      <td>Male</td>\n",
       "      <td>No</td>\n",
       "      <td>Sun</td>\n",
       "      <td>Dinner</td>\n",
       "      <td>5</td>\n",
       "      <td>24.166264</td>\n",
       "    </tr>\n",
       "    <tr>\n",
       "      <th>194</th>\n",
       "      <td>16.58</td>\n",
       "      <td>4.00</td>\n",
       "      <td>Male</td>\n",
       "      <td>Yes</td>\n",
       "      <td>Thur</td>\n",
       "      <td>Lunch</td>\n",
       "      <td>2</td>\n",
       "      <td>24.125452</td>\n",
       "    </tr>\n",
       "    <tr>\n",
       "      <th>174</th>\n",
       "      <td>16.82</td>\n",
       "      <td>4.00</td>\n",
       "      <td>Male</td>\n",
       "      <td>Yes</td>\n",
       "      <td>Sun</td>\n",
       "      <td>Dinner</td>\n",
       "      <td>2</td>\n",
       "      <td>23.781213</td>\n",
       "    </tr>\n",
       "    <tr>\n",
       "      <th>88</th>\n",
       "      <td>24.71</td>\n",
       "      <td>5.85</td>\n",
       "      <td>Male</td>\n",
       "      <td>No</td>\n",
       "      <td>Thur</td>\n",
       "      <td>Lunch</td>\n",
       "      <td>2</td>\n",
       "      <td>23.674626</td>\n",
       "    </tr>\n",
       "    <tr>\n",
       "      <th>214</th>\n",
       "      <td>28.17</td>\n",
       "      <td>6.50</td>\n",
       "      <td>Female</td>\n",
       "      <td>Yes</td>\n",
       "      <td>Sat</td>\n",
       "      <td>Dinner</td>\n",
       "      <td>3</td>\n",
       "      <td>23.074192</td>\n",
       "    </tr>\n",
       "    <tr>\n",
       "      <th>6</th>\n",
       "      <td>8.77</td>\n",
       "      <td>2.00</td>\n",
       "      <td>Male</td>\n",
       "      <td>No</td>\n",
       "      <td>Sun</td>\n",
       "      <td>Dinner</td>\n",
       "      <td>2</td>\n",
       "      <td>22.805017</td>\n",
       "    </tr>\n",
       "    <tr>\n",
       "      <th>17</th>\n",
       "      <td>16.29</td>\n",
       "      <td>3.71</td>\n",
       "      <td>Male</td>\n",
       "      <td>No</td>\n",
       "      <td>Sun</td>\n",
       "      <td>Dinner</td>\n",
       "      <td>3</td>\n",
       "      <td>22.774708</td>\n",
       "    </tr>\n",
       "    <tr>\n",
       "      <th>20</th>\n",
       "      <td>17.92</td>\n",
       "      <td>4.08</td>\n",
       "      <td>Male</td>\n",
       "      <td>No</td>\n",
       "      <td>Sat</td>\n",
       "      <td>Dinner</td>\n",
       "      <td>2</td>\n",
       "      <td>22.767857</td>\n",
       "    </tr>\n",
       "    <tr>\n",
       "      <th>46</th>\n",
       "      <td>22.23</td>\n",
       "      <td>5.00</td>\n",
       "      <td>Male</td>\n",
       "      <td>No</td>\n",
       "      <td>Sun</td>\n",
       "      <td>Dinner</td>\n",
       "      <td>2</td>\n",
       "      <td>22.492128</td>\n",
       "    </tr>\n",
       "  </tbody>\n",
       "</table>\n",
       "</div>"
      ],
      "text/plain": [
       "     total_bill   tip     sex smoker   day    time  size    tiprate\n",
       "172        7.25  5.15    Male    Yes   Sun  Dinner     2  71.034483\n",
       "178        9.60  4.00  Female    Yes   Sun  Dinner     2  41.666667\n",
       "67         3.07  1.00  Female    Yes   Sat  Dinner     1  32.573290\n",
       "232       11.61  3.39    Male     No   Sat  Dinner     2  29.198966\n",
       "183       23.17  6.50    Male    Yes   Sun  Dinner     4  28.053517\n",
       "109       14.31  4.00  Female    Yes   Sat  Dinner     2  27.952481\n",
       "149        7.51  2.00    Male     No  Thur   Lunch     2  26.631158\n",
       "93        16.32  4.30  Female    Yes   Fri  Dinner     2  26.348039\n",
       "221       13.42  3.48  Female    Yes   Fri   Lunch     2  25.931446\n",
       "51        10.29  2.60  Female     No   Sun  Dinner     2  25.267250\n",
       "181       23.33  5.65    Male    Yes   Sun  Dinner     2  24.217745\n",
       "185       20.69  5.00    Male     No   Sun  Dinner     5  24.166264\n",
       "194       16.58  4.00    Male    Yes  Thur   Lunch     2  24.125452\n",
       "174       16.82  4.00    Male    Yes   Sun  Dinner     2  23.781213\n",
       "88        24.71  5.85    Male     No  Thur   Lunch     2  23.674626\n",
       "214       28.17  6.50  Female    Yes   Sat  Dinner     3  23.074192\n",
       "6          8.77  2.00    Male     No   Sun  Dinner     2  22.805017\n",
       "17        16.29  3.71    Male     No   Sun  Dinner     3  22.774708\n",
       "20        17.92  4.08    Male     No   Sat  Dinner     2  22.767857\n",
       "46        22.23  5.00    Male     No   Sun  Dinner     2  22.492128"
      ]
     },
     "execution_count": 10,
     "metadata": {},
     "output_type": "execute_result"
    }
   ],
   "source": [
    "tiptotal = tips.sort_values(\"tiprate\", ascending = False)\n",
    "tiptotal.head(20)"
   ]
  },
  {
   "cell_type": "markdown",
   "metadata": {},
   "source": [
    "Looking at the top 20 tippers, eyeballing it the biggest tippers seem to be male, at dinner, at the weekend and in a party of 2. Lets investigate some of the categorical variables"
   ]
  },
  {
   "cell_type": "markdown",
   "metadata": {},
   "source": [
    "### Categorical Variables <a class=\"ancor\" id=\"categorical\"/>"
   ]
  },
  {
   "cell_type": "code",
   "execution_count": 11,
   "metadata": {},
   "outputs": [
    {
     "data": {
      "text/plain": [
       "Male      157\n",
       "Female     87\n",
       "Name: sex, dtype: int64"
      ]
     },
     "execution_count": 11,
     "metadata": {},
     "output_type": "execute_result"
    }
   ],
   "source": [
    "tips.sex\n",
    "tips[\"sex\"].value_counts()"
   ]
  },
  {
   "cell_type": "markdown",
   "metadata": {},
   "source": [
    "So looking at our counts it is clear that more males paid the bill than females."
   ]
  },
  {
   "cell_type": "code",
   "execution_count": 12,
   "metadata": {},
   "outputs": [
    {
     "data": {
      "text/plain": [
       "total_bill    20.744076\n",
       "tip            3.089618\n",
       "size           2.630573\n",
       "tiprate       15.765055\n",
       "dtype: float64"
      ]
     },
     "execution_count": 12,
     "metadata": {},
     "output_type": "execute_result"
    }
   ],
   "source": [
    "tips.loc[tips[\"sex\"]==\"Male\"].mean()\n",
    "#[2]"
   ]
  },
  {
   "cell_type": "markdown",
   "metadata": {},
   "source": [
    "The males average tip (15.7%) does not seem to be deviating too much from the average tiprate (16%)"
   ]
  },
  {
   "cell_type": "code",
   "execution_count": 13,
   "metadata": {},
   "outputs": [
    {
     "data": {
      "text/html": [
       "<div>\n",
       "<style scoped>\n",
       "    .dataframe tbody tr th:only-of-type {\n",
       "        vertical-align: middle;\n",
       "    }\n",
       "\n",
       "    .dataframe tbody tr th {\n",
       "        vertical-align: top;\n",
       "    }\n",
       "\n",
       "    .dataframe thead th {\n",
       "        text-align: right;\n",
       "    }\n",
       "</style>\n",
       "<table border=\"1\" class=\"dataframe\">\n",
       "  <thead>\n",
       "    <tr style=\"text-align: right;\">\n",
       "      <th>sex</th>\n",
       "      <th>Male</th>\n",
       "      <th>Female</th>\n",
       "    </tr>\n",
       "  </thead>\n",
       "  <tbody>\n",
       "    <tr>\n",
       "      <th>count</th>\n",
       "      <td>157.000000</td>\n",
       "      <td>87.000000</td>\n",
       "    </tr>\n",
       "    <tr>\n",
       "      <th>mean</th>\n",
       "      <td>15.765055</td>\n",
       "      <td>16.649074</td>\n",
       "    </tr>\n",
       "    <tr>\n",
       "      <th>std</th>\n",
       "      <td>6.477787</td>\n",
       "      <td>5.363173</td>\n",
       "    </tr>\n",
       "    <tr>\n",
       "      <th>min</th>\n",
       "      <td>3.563814</td>\n",
       "      <td>5.643341</td>\n",
       "    </tr>\n",
       "    <tr>\n",
       "      <th>25%</th>\n",
       "      <td>12.138869</td>\n",
       "      <td>14.041645</td>\n",
       "    </tr>\n",
       "    <tr>\n",
       "      <th>50%</th>\n",
       "      <td>15.349194</td>\n",
       "      <td>15.558149</td>\n",
       "    </tr>\n",
       "    <tr>\n",
       "      <th>75%</th>\n",
       "      <td>18.623962</td>\n",
       "      <td>19.426621</td>\n",
       "    </tr>\n",
       "    <tr>\n",
       "      <th>max</th>\n",
       "      <td>71.034483</td>\n",
       "      <td>41.666667</td>\n",
       "    </tr>\n",
       "  </tbody>\n",
       "</table>\n",
       "</div>"
      ],
      "text/plain": [
       "sex          Male     Female\n",
       "count  157.000000  87.000000\n",
       "mean    15.765055  16.649074\n",
       "std      6.477787   5.363173\n",
       "min      3.563814   5.643341\n",
       "25%     12.138869  14.041645\n",
       "50%     15.349194  15.558149\n",
       "75%     18.623962  19.426621\n",
       "max     71.034483  41.666667"
      ]
     },
     "execution_count": 13,
     "metadata": {},
     "output_type": "execute_result"
    }
   ],
   "source": [
    "tips.pivot(columns='sex', values='tiprate').describe()"
   ]
  },
  {
   "cell_type": "markdown",
   "metadata": {},
   "source": [
    "Comparing men and women, females on average do seem to tip slightly more than males with females tipping 16.6\\% and males 15.8\\%."
   ]
  },
  {
   "cell_type": "code",
   "execution_count": 14,
   "metadata": {},
   "outputs": [
    {
     "name": "stdout",
     "output_type": "stream",
     "text": [
      "smoker  Yes  No\n",
      "sex            \n",
      "Male     60  97\n",
      "Female   33  54\n"
     ]
    }
   ],
   "source": [
    "print(tips.groupby([\"sex\",\"smoker\"])[\"tiprate\"].count().fillna(0).unstack())"
   ]
  },
  {
   "cell_type": "markdown",
   "metadata": {},
   "source": [
    "Looking at the counts for gender and smoking tables, there were more non-smoking tables than smoking"
   ]
  },
  {
   "cell_type": "code",
   "execution_count": 15,
   "metadata": {},
   "outputs": [
    {
     "data": {
      "text/plain": [
       "total_bill    20.756344\n",
       "tip            3.008710\n",
       "size           2.408602\n",
       "tiprate       16.319604\n",
       "dtype: float64"
      ]
     },
     "execution_count": 15,
     "metadata": {},
     "output_type": "execute_result"
    }
   ],
   "source": [
    "tips.loc[tips[\"smoker\"]==\"Yes\"].mean()"
   ]
  },
  {
   "cell_type": "markdown",
   "metadata": {},
   "source": [
    "Smoking tables seems similar to the overall averages we observed across the whole dataset above. They have a similar average tiprate of 16%."
   ]
  },
  {
   "cell_type": "code",
   "execution_count": 16,
   "metadata": {},
   "outputs": [
    {
     "data": {
      "text/html": [
       "<div>\n",
       "<style scoped>\n",
       "    .dataframe tbody tr th:only-of-type {\n",
       "        vertical-align: middle;\n",
       "    }\n",
       "\n",
       "    .dataframe tbody tr th {\n",
       "        vertical-align: top;\n",
       "    }\n",
       "\n",
       "    .dataframe thead th {\n",
       "        text-align: right;\n",
       "    }\n",
       "</style>\n",
       "<table border=\"1\" class=\"dataframe\">\n",
       "  <thead>\n",
       "    <tr style=\"text-align: right;\">\n",
       "      <th>smoker</th>\n",
       "      <th>Yes</th>\n",
       "      <th>No</th>\n",
       "    </tr>\n",
       "  </thead>\n",
       "  <tbody>\n",
       "    <tr>\n",
       "      <th>count</th>\n",
       "      <td>93.000000</td>\n",
       "      <td>151.000000</td>\n",
       "    </tr>\n",
       "    <tr>\n",
       "      <th>mean</th>\n",
       "      <td>16.319604</td>\n",
       "      <td>15.932846</td>\n",
       "    </tr>\n",
       "    <tr>\n",
       "      <th>std</th>\n",
       "      <td>8.511920</td>\n",
       "      <td>3.990977</td>\n",
       "    </tr>\n",
       "    <tr>\n",
       "      <th>min</th>\n",
       "      <td>3.563814</td>\n",
       "      <td>5.679667</td>\n",
       "    </tr>\n",
       "    <tr>\n",
       "      <th>25%</th>\n",
       "      <td>10.677083</td>\n",
       "      <td>13.690561</td>\n",
       "    </tr>\n",
       "    <tr>\n",
       "      <th>50%</th>\n",
       "      <td>15.384615</td>\n",
       "      <td>15.562472</td>\n",
       "    </tr>\n",
       "    <tr>\n",
       "      <th>75%</th>\n",
       "      <td>19.505852</td>\n",
       "      <td>18.501403</td>\n",
       "    </tr>\n",
       "    <tr>\n",
       "      <th>max</th>\n",
       "      <td>71.034483</td>\n",
       "      <td>29.198966</td>\n",
       "    </tr>\n",
       "  </tbody>\n",
       "</table>\n",
       "</div>"
      ],
      "text/plain": [
       "smoker        Yes          No\n",
       "count   93.000000  151.000000\n",
       "mean    16.319604   15.932846\n",
       "std      8.511920    3.990977\n",
       "min      3.563814    5.679667\n",
       "25%     10.677083   13.690561\n",
       "50%     15.384615   15.562472\n",
       "75%     19.505852   18.501403\n",
       "max     71.034483   29.198966"
      ]
     },
     "execution_count": 16,
     "metadata": {},
     "output_type": "execute_result"
    }
   ],
   "source": [
    "tips.pivot(columns='smoker', values='tiprate').describe()"
   ]
  },
  {
   "cell_type": "markdown",
   "metadata": {},
   "source": [
    "Comparing smoking and non-smoking tiprate averages, non-smokering (15.9\\%) is lower than smoking (16.3\\%)."
   ]
  },
  {
   "cell_type": "code",
   "execution_count": 17,
   "metadata": {},
   "outputs": [
    {
     "name": "stdout",
     "output_type": "stream",
     "text": [
      "smoker        Yes         No\n",
      "sex                         \n",
      "Male    15.277118  16.066872\n",
      "Female  18.215035  15.692097\n"
     ]
    }
   ],
   "source": [
    "print(tips.groupby([\"sex\", \"smoker\"])[\"tiprate\"].mean().unstack())"
   ]
  },
  {
   "cell_type": "markdown",
   "metadata": {},
   "source": [
    "Female smokers are giving the highest average tip (18.2\\%). Male non-smokers gave a higher average tip (16.1\\%) than female non-smokers (15.7%)."
   ]
  },
  {
   "cell_type": "code",
   "execution_count": 18,
   "metadata": {},
   "outputs": [
    {
     "name": "stdout",
     "output_type": "stream",
     "text": [
      "day   time  \n",
      "Thur  Lunch     61\n",
      "      Dinner     1\n",
      "Fri   Lunch      7\n",
      "      Dinner    12\n",
      "Sat   Dinner    87\n",
      "Sun   Dinner    76\n",
      "Name: total_bill, dtype: int64\n"
     ]
    }
   ],
   "source": [
    "print(tips.groupby([\"day\", \"time\"])[\"total_bill\"].count())"
   ]
  },
  {
   "cell_type": "markdown",
   "metadata": {},
   "source": [
    "There were no tables for this waiter at lunch time on Saturday and Sunday. There was only one table at dinner on Thursday. Most of the tables served were Thursday at lunch and Saturday and Sunday at dinner. During the week, there seems to be more people having lunch here than dinner."
   ]
  },
  {
   "cell_type": "code",
   "execution_count": 19,
   "metadata": {},
   "outputs": [
    {
     "data": {
      "text/html": [
       "<div>\n",
       "<style scoped>\n",
       "    .dataframe tbody tr th:only-of-type {\n",
       "        vertical-align: middle;\n",
       "    }\n",
       "\n",
       "    .dataframe tbody tr th {\n",
       "        vertical-align: top;\n",
       "    }\n",
       "\n",
       "    .dataframe thead th {\n",
       "        text-align: right;\n",
       "    }\n",
       "</style>\n",
       "<table border=\"1\" class=\"dataframe\">\n",
       "  <thead>\n",
       "    <tr style=\"text-align: right;\">\n",
       "      <th>day</th>\n",
       "      <th>Thur</th>\n",
       "      <th>Fri</th>\n",
       "      <th>Sat</th>\n",
       "      <th>Sun</th>\n",
       "    </tr>\n",
       "  </thead>\n",
       "  <tbody>\n",
       "    <tr>\n",
       "      <th>count</th>\n",
       "      <td>62.000000</td>\n",
       "      <td>19.000000</td>\n",
       "      <td>87.000000</td>\n",
       "      <td>76.000000</td>\n",
       "    </tr>\n",
       "    <tr>\n",
       "      <th>mean</th>\n",
       "      <td>16.127563</td>\n",
       "      <td>16.991303</td>\n",
       "      <td>15.315172</td>\n",
       "      <td>16.689729</td>\n",
       "    </tr>\n",
       "    <tr>\n",
       "      <th>std</th>\n",
       "      <td>3.865182</td>\n",
       "      <td>4.766531</td>\n",
       "      <td>5.129259</td>\n",
       "      <td>8.473889</td>\n",
       "    </tr>\n",
       "    <tr>\n",
       "      <th>min</th>\n",
       "      <td>7.296137</td>\n",
       "      <td>10.355540</td>\n",
       "      <td>3.563814</td>\n",
       "      <td>5.944673</td>\n",
       "    </tr>\n",
       "    <tr>\n",
       "      <th>25%</th>\n",
       "      <td>13.820958</td>\n",
       "      <td>13.373871</td>\n",
       "      <td>12.386329</td>\n",
       "      <td>11.998208</td>\n",
       "    </tr>\n",
       "    <tr>\n",
       "      <th>50%</th>\n",
       "      <td>15.384615</td>\n",
       "      <td>15.562472</td>\n",
       "      <td>15.183246</td>\n",
       "      <td>16.110332</td>\n",
       "    </tr>\n",
       "    <tr>\n",
       "      <th>75%</th>\n",
       "      <td>19.268675</td>\n",
       "      <td>19.663729</td>\n",
       "      <td>18.827082</td>\n",
       "      <td>18.788908</td>\n",
       "    </tr>\n",
       "    <tr>\n",
       "      <th>max</th>\n",
       "      <td>26.631158</td>\n",
       "      <td>26.348039</td>\n",
       "      <td>32.573290</td>\n",
       "      <td>71.034483</td>\n",
       "    </tr>\n",
       "  </tbody>\n",
       "</table>\n",
       "</div>"
      ],
      "text/plain": [
       "day         Thur        Fri        Sat        Sun\n",
       "count  62.000000  19.000000  87.000000  76.000000\n",
       "mean   16.127563  16.991303  15.315172  16.689729\n",
       "std     3.865182   4.766531   5.129259   8.473889\n",
       "min     7.296137  10.355540   3.563814   5.944673\n",
       "25%    13.820958  13.373871  12.386329  11.998208\n",
       "50%    15.384615  15.562472  15.183246  16.110332\n",
       "75%    19.268675  19.663729  18.827082  18.788908\n",
       "max    26.631158  26.348039  32.573290  71.034483"
      ]
     },
     "execution_count": 19,
     "metadata": {},
     "output_type": "execute_result"
    }
   ],
   "source": [
    "tips.pivot(columns='day', values='tiprate').describe()"
   ]
  },
  {
   "cell_type": "markdown",
   "metadata": {},
   "source": [
    "The average tiprate seems to be highest on Friday at almost 17\\%, however there was the lowest amount of customers on Friday (19) and the highest being on Saturday (87). "
   ]
  },
  {
   "cell_type": "code",
   "execution_count": 20,
   "metadata": {},
   "outputs": [
    {
     "name": "stdout",
     "output_type": "stream",
     "text": [
      "day   time  \n",
      "Thur  Lunch     16.130074\n",
      "      Dinner    15.974441\n",
      "Fri   Lunch     18.876489\n",
      "      Dinner    15.891611\n",
      "Sat   Dinner    15.315172\n",
      "Sun   Dinner    16.689729\n",
      "Name: tiprate, dtype: float64\n"
     ]
    }
   ],
   "source": [
    "print(tips.groupby([\"day\", \"time\"])[\"tiprate\"].mean())"
   ]
  },
  {
   "cell_type": "markdown",
   "metadata": {},
   "source": [
    "Looking at the breakdown of tiprate by day of the week and time of day, we see there are no diners for lunch on the weekend. The lowest tip rate is on Saturday night at dinner (15.3\\%) and the highest is on Friday at lunch time (18.9\\%) but there was only 7 tables at that time"
   ]
  },
  {
   "cell_type": "code",
   "execution_count": 21,
   "metadata": {},
   "outputs": [
    {
     "data": {
      "text/html": [
       "<div>\n",
       "<style scoped>\n",
       "    .dataframe tbody tr th:only-of-type {\n",
       "        vertical-align: middle;\n",
       "    }\n",
       "\n",
       "    .dataframe tbody tr th {\n",
       "        vertical-align: top;\n",
       "    }\n",
       "\n",
       "    .dataframe thead th {\n",
       "        text-align: right;\n",
       "    }\n",
       "</style>\n",
       "<table border=\"1\" class=\"dataframe\">\n",
       "  <thead>\n",
       "    <tr style=\"text-align: right;\">\n",
       "      <th>size</th>\n",
       "      <th>1</th>\n",
       "      <th>2</th>\n",
       "      <th>3</th>\n",
       "      <th>4</th>\n",
       "      <th>5</th>\n",
       "      <th>6</th>\n",
       "    </tr>\n",
       "  </thead>\n",
       "  <tbody>\n",
       "    <tr>\n",
       "      <th>count</th>\n",
       "      <td>4.000000</td>\n",
       "      <td>156.000000</td>\n",
       "      <td>38.000000</td>\n",
       "      <td>37.000000</td>\n",
       "      <td>5.000000</td>\n",
       "      <td>4.000000</td>\n",
       "    </tr>\n",
       "    <tr>\n",
       "      <th>mean</th>\n",
       "      <td>21.729202</td>\n",
       "      <td>16.571919</td>\n",
       "      <td>15.215685</td>\n",
       "      <td>14.594901</td>\n",
       "      <td>14.149549</td>\n",
       "      <td>15.622920</td>\n",
       "    </tr>\n",
       "    <tr>\n",
       "      <th>std</th>\n",
       "      <td>8.034186</td>\n",
       "      <td>6.684824</td>\n",
       "      <td>4.545887</td>\n",
       "      <td>4.239533</td>\n",
       "      <td>6.773266</td>\n",
       "      <td>4.215338</td>\n",
       "    </tr>\n",
       "    <tr>\n",
       "      <th>min</th>\n",
       "      <td>13.793103</td>\n",
       "      <td>3.563814</td>\n",
       "      <td>5.643341</td>\n",
       "      <td>7.745933</td>\n",
       "      <td>6.565988</td>\n",
       "      <td>10.379905</td>\n",
       "    </tr>\n",
       "    <tr>\n",
       "      <th>25%</th>\n",
       "      <td>17.077869</td>\n",
       "      <td>13.522313</td>\n",
       "      <td>12.475755</td>\n",
       "      <td>11.774956</td>\n",
       "      <td>10.657194</td>\n",
       "      <td>13.165446</td>\n",
       "    </tr>\n",
       "    <tr>\n",
       "      <th>50%</th>\n",
       "      <td>20.275206</td>\n",
       "      <td>15.610418</td>\n",
       "      <td>15.932311</td>\n",
       "      <td>14.669927</td>\n",
       "      <td>12.138869</td>\n",
       "      <td>16.289124</td>\n",
       "    </tr>\n",
       "    <tr>\n",
       "      <th>75%</th>\n",
       "      <td>24.926539</td>\n",
       "      <td>19.503614</td>\n",
       "      <td>18.613473</td>\n",
       "      <td>16.979656</td>\n",
       "      <td>17.219430</td>\n",
       "      <td>18.746598</td>\n",
       "    </tr>\n",
       "    <tr>\n",
       "      <th>max</th>\n",
       "      <td>32.573290</td>\n",
       "      <td>71.034483</td>\n",
       "      <td>23.074192</td>\n",
       "      <td>28.053517</td>\n",
       "      <td>24.166264</td>\n",
       "      <td>19.533528</td>\n",
       "    </tr>\n",
       "  </tbody>\n",
       "</table>\n",
       "</div>"
      ],
      "text/plain": [
       "size           1           2          3          4          5          6\n",
       "count   4.000000  156.000000  38.000000  37.000000   5.000000   4.000000\n",
       "mean   21.729202   16.571919  15.215685  14.594901  14.149549  15.622920\n",
       "std     8.034186    6.684824   4.545887   4.239533   6.773266   4.215338\n",
       "min    13.793103    3.563814   5.643341   7.745933   6.565988  10.379905\n",
       "25%    17.077869   13.522313  12.475755  11.774956  10.657194  13.165446\n",
       "50%    20.275206   15.610418  15.932311  14.669927  12.138869  16.289124\n",
       "75%    24.926539   19.503614  18.613473  16.979656  17.219430  18.746598\n",
       "max    32.573290   71.034483  23.074192  28.053517  24.166264  19.533528"
      ]
     },
     "execution_count": 21,
     "metadata": {},
     "output_type": "execute_result"
    }
   ],
   "source": [
    "tips.pivot(columns='size', values='tiprate').describe()"
   ]
  },
  {
   "cell_type": "markdown",
   "metadata": {},
   "source": [
    "By far the most popular table size is for 2 people (156). There are very few people in dining alone (4) or in tables of 5 (5) or tables of 6 (4)."
   ]
  },
  {
   "cell_type": "code",
   "execution_count": 22,
   "metadata": {},
   "outputs": [
    {
     "name": "stdout",
     "output_type": "stream",
     "text": [
      "size\n",
      "1    21.729202\n",
      "2    16.571919\n",
      "3    15.215685\n",
      "4    14.594901\n",
      "5    14.149549\n",
      "6    15.622920\n",
      "Name: tiprate, dtype: float64\n"
     ]
    }
   ],
   "source": [
    "print(tips.groupby([\"size\"])[\"tiprate\"].mean())"
   ]
  },
  {
   "cell_type": "markdown",
   "metadata": {},
   "source": [
    "People dining alone seem to be the highest tippers (21.7\\%) however as noted above there isn't alot of them. Tables of 2, 3, 4 seem to show a decreasing trend in tiprate as the table size increases."
   ]
  },
  {
   "cell_type": "markdown",
   "metadata": {},
   "source": [
    " # Visualising Data <a class=\"ancor\" id=\"plots\"/>"
   ]
  },
  {
   "cell_type": "markdown",
   "metadata": {},
   "source": [
    "## Distribution of Tip Amount <a class=\"ancor\" id=\"distTip\"/>"
   ]
  },
  {
   "cell_type": "code",
   "execution_count": 23,
   "metadata": {},
   "outputs": [
    {
     "name": "stderr",
     "output_type": "stream",
     "text": [
      "C:\\Users\\Zoe\\Anaconda3\\lib\\site-packages\\scipy\\stats\\stats.py:1713: FutureWarning: Using a non-tuple sequence for multidimensional indexing is deprecated; use `arr[tuple(seq)]` instead of `arr[seq]`. In the future this will be interpreted as an array index, `arr[np.array(seq)]`, which will result either in an error or a different result.\n",
      "  return np.add.reduce(sorted[indexer] * weights, axis=axis) / sumval\n"
     ]
    },
    {
     "data": {
      "text/plain": [
       "Text(0.5, 1.0, 'Tip ($) Distribution')"
      ]
     },
     "execution_count": 23,
     "metadata": {},
     "output_type": "execute_result"
    },
    {
     "data": {
      "image/png": "[encoded data removed]",
      "text/plain": [
       "<Figure size 432x288 with 1 Axes>"
      ]
     },
     "metadata": {
      "needs_background": "light"
     },
     "output_type": "display_data"
    }
   ],
   "source": [
    "sns.distplot(tips[\"tip\"])\n",
    "plt.xlabel(\"Tip ($)\")\n",
    "plt.title(\"Tip ($) Distribution\")"
   ]
  },
  {
   "cell_type": "markdown",
   "metadata": {},
   "source": [
    "The general shape of the data seems to be skewed to the left, which suggests that there were more smaller tips than larger tips. There are no tips that are less than \\\\$1."
   ]
  },
  {
   "cell_type": "code",
   "execution_count": 24,
   "metadata": {},
   "outputs": [
    {
     "data": {
      "text/plain": [
       "Text(0.5, 1.0, 'Closer Look at Tip($) Distribution')"
      ]
     },
     "execution_count": 24,
     "metadata": {},
     "output_type": "execute_result"
    },
    {
     "data": {
      "image/png": "[encoded data removed]",
      "text/plain": [
       "<Figure size 432x288 with 1 Axes>"
      ]
     },
     "metadata": {
      "needs_background": "light"
     },
     "output_type": "display_data"
    }
   ],
   "source": [
    "sns.distplot(tips['tip'], kde=False, bins=20);\n",
    "plt.xlabel(\"Tip ($)\")\n",
    "plt.title(\"Closer Look at Tip($) Distribution\")"
   ]
  },
  {
   "cell_type": "markdown",
   "metadata": {},
   "source": [
    "Increasing the bin size will give us a closer look at the distribution. It now appears that tips peak at about \\\\$1 - \\\\$2 and then start to trail off. In general, most tables seem to be tipping in the \\\\$1 - \\\\$4 range. Going on the assumption that most people tip a percentage of the bill and there is a relationship between these two variables, the total bills should roughly be between \\\\$15 - \\\\$60. Again this suggests this isn't a very high-priced restaurant."
   ]
  },
  {
   "cell_type": "code",
   "execution_count": 25,
   "metadata": {},
   "outputs": [
    {
     "data": {
      "image/png": "[encoded data removed]",
      "text/plain": [
       "<Figure size 432x288 with 1 Axes>"
      ]
     },
     "metadata": {
      "needs_background": "light"
     },
     "output_type": "display_data"
    }
   ],
   "source": [
    "sns.distplot(tips['tip'], kde=False, bins=80);\n",
    "plt.xticks(np.arange(1, 10, step=1.0))\n",
    "plt.xlabel(\"Tip ($)\")\n",
    "plt.title(\"\\\\$1 Tip($) Distribution\")\n",
    "plt.show()"
   ]
  },
  {
   "cell_type": "markdown",
   "metadata": {},
   "source": [
    "There are large peaks in the distribution at \\\\$1, \\\\$2, \\\\$3, \\\\$4 and \\\\$5. This suggest that people are tending to round their tips to the nearest dollar. This could simply be for convenience - it's much easier and quicker to count out a tip in dollars rather than cents. Or could be to do with using electronic way of payment like a card where you press a button to give a tip."
   ]
  },
  {
   "cell_type": "code",
   "execution_count": 26,
   "metadata": {},
   "outputs": [
    {
     "data": {
      "image/png": "[encoded data removed]",
      "text/plain": [
       "<Figure size 432x288 with 1 Axes>"
      ]
     },
     "metadata": {
      "needs_background": "light"
     },
     "output_type": "display_data"
    }
   ],
   "source": [
    "sns.distplot(tips['tip'], kde=False, bins=150);\n",
    "plt.xticks(np.arange(1, 10, step=1.0))\n",
    "plt.xlabel(\"Tip ($)\")\n",
    "plt.title(\"\\\\$.50 Tip($) Distribution\")\n",
    "plt.show()"
   ]
  },
  {
   "cell_type": "markdown",
   "metadata": {},
   "source": [
    "Going a little deeper again, we can see there are also peaks around \\\\$1.50, \\\\$2.50 and \\\\$3.50. People also seem to be rounding to the nearest 50c. The outliers in the data are also really visible here."
   ]
  },
  {
   "cell_type": "markdown",
   "metadata": {},
   "source": [
    "## Investigating Tip and Total Bill <a class=\"ancor\" id=\"tipBill\"/>"
   ]
  },
  {
   "cell_type": "markdown",
   "metadata": {},
   "source": [
    "### Tip and Total Bill <a class=\"ancor\" id=\"tipBill1\"/>"
   ]
  },
  {
   "cell_type": "code",
   "execution_count": 27,
   "metadata": {},
   "outputs": [
    {
     "data": {
      "image/png": "[encoded data removed]",
      "text/plain": [
       "<Figure size 1080x576 with 1 Axes>"
      ]
     },
     "metadata": {},
     "output_type": "display_data"
    }
   ],
   "source": [
    "# [19]\n",
    "sns.set_style('ticks')\n",
    "g = sns.regplot(x=\"total_bill\", y=\"tip\", data=tips);\n",
    "plt.xlabel(\"Total Bill (\\\\$)\")\n",
    "plt.ylabel(\"Tip (\\\\$)\")\n",
    "plt.title(\"Tip vs Total Bill\")\n",
    "# Making bigger for readablity\n",
    "g.figure.set_size_inches(15, 8)\n",
    "sns.despine()"
   ]
  },
  {
   "cell_type": "code",
   "execution_count": 28,
   "metadata": {},
   "outputs": [
    {
     "data": {
      "text/plain": [
       "0.68"
      ]
     },
     "execution_count": 28,
     "metadata": {},
     "output_type": "execute_result"
    }
   ],
   "source": [
    "# Calculate the correlation between the two\n",
    "tips['tip'].corr(tips['total_bill']).round(2)"
   ]
  },
  {
   "cell_type": "markdown",
   "metadata": {},
   "source": [
    "There are a lot more customers that are giving tips for lower total bills, than there are spending on bigger bills and tips. Again we can see how the data is skewed due to the few outliers we saw earlier when look at the distribution of the tips. You can also see the lines of tips at the \\\\$1 and 50c markers, indicating the rounding we saw earlier. There is a linear relationship as expected between the two variables. Looking at the plot, it looks to be about 15\\% - 16\\% or so, with a lot of the customers landing below the line rather than above it, or tipping below the 15\\%. Maybe the service isn't great here?"
   ]
  },
  {
   "cell_type": "markdown",
   "metadata": {},
   "source": [
    "## Tip and Total Bill by Gender <a class=\"ancor\" id=\"tipBill2\"/>"
   ]
  },
  {
   "cell_type": "code",
   "execution_count": 29,
   "metadata": {},
   "outputs": [
    {
     "data": {
      "image/png": "[encoded data removed]",
      "text/plain": [
       "<Figure size 720x360 with 2 Axes>"
      ]
     },
     "metadata": {},
     "output_type": "display_data"
    }
   ],
   "source": [
    "# Generates grid looking at relationship between \n",
    "# tip amount and total_bill by gender\n",
    "sns.relplot(x=\"total_bill\", y=\"tip\", col=\"sex\", data=tips);"
   ]
  },
  {
   "cell_type": "code",
   "execution_count": 30,
   "metadata": {},
   "outputs": [
    {
     "data": {
      "text/plain": [
       "0.67"
      ]
     },
     "execution_count": 30,
     "metadata": {},
     "output_type": "execute_result"
    }
   ],
   "source": [
    "# Calculating the correlation on the male values\n",
    "m = tips.loc[tips[\"sex\"]==\"Male\", \"total_bill\"]\n",
    "tips['tip'].corr(m).round(2)"
   ]
  },
  {
   "cell_type": "code",
   "execution_count": 31,
   "metadata": {},
   "outputs": [
    {
     "data": {
      "text/plain": [
       "0.68"
      ]
     },
     "execution_count": 31,
     "metadata": {},
     "output_type": "execute_result"
    }
   ],
   "source": [
    "# Calculating the correlation on the female values\n",
    "f = tips.loc[tips[\"sex\"]==\"Female\", \"total_bill\"]\n",
    "tips['tip'].corr(f).round(2)"
   ]
  },
  {
   "cell_type": "markdown",
   "metadata": {},
   "source": [
    "Looking at the plot, we can see that there are more larger total bills paid for by males than females. The larger tips and total bills are paid for by males. The slope of the data also looks higher for males. We have looked at size yet, and we don't know much about the type of restaurant or context. Perhaps more tables of two might mean mean tipping higher on a date. It could also be a business lunch, we would need more information to know for sure."
   ]
  },
  {
   "cell_type": "markdown",
   "metadata": {},
   "source": [
    "## Tip and Total Bill by Gender and Smoking Table <a class=\"ancor\" id=\"tipBill3\"/>"
   ]
  },
  {
   "cell_type": "code",
   "execution_count": 32,
   "metadata": {},
   "outputs": [
    {
     "data": {
      "image/png": "[encoded data removed]",
      "text/plain": [
       "<Figure size 789.375x360 with 2 Axes>"
      ]
     },
     "metadata": {},
     "output_type": "display_data"
    }
   ],
   "source": [
    "# Generates grid looking at relationship between\n",
    "# tip amount and total_bill by gender and smoking status\n",
    "sns.relplot(x=\"total_bill\", y=\"tip\", hue=\"sex\", col=\"smoker\", data=tips);"
   ]
  },
  {
   "cell_type": "markdown",
   "metadata": {},
   "source": [
    "Smokers seem to be very erratic with lots of variability, there doesn't seem to be any consistent relationship amongst the smokers."
   ]
  },
  {
   "cell_type": "code",
   "execution_count": 33,
   "metadata": {},
   "outputs": [
    {
     "data": {
      "image/png": "[encoded data removed]",
      "text/plain": [
       "<Figure size 864x864 with 4 Axes>"
      ]
     },
     "metadata": {},
     "output_type": "display_data"
    }
   ],
   "source": [
    "with sns.axes_style(\"white\"):\n",
    "    g = sns.FacetGrid(tips, row=\"smoker\", col=\"sex\", height=6)\n",
    "g.map(sns.regplot, \"total_bill\", \"tip\");\n",
    "g.set_axis_labels(\"Total bill (\\$)\", \"Tip (\\$)\");\n",
    "axes = g.axes.flatten()\n",
    "# Setting Ticks\n",
    "plt.xticks(np.arange(0, 51, step=10.0))\n",
    "plt.yticks(np.arange(0, 11, step=1.0))\n",
    "# Set subplot titles\n",
    "axes[0].set_title(\"Male Smoker\")\n",
    "axes[1].set_title(\"Female Smoker\")\n",
    "axes[2].set_title(\"Male Non-Smoker\")\n",
    "axes[3].set_title(\"Female Non-Smoker\")\n",
    "# Adding some space between plots\n",
    "g.fig.subplots_adjust(wspace=.1, hspace=.1);\n",
    "#[3]"
   ]
  },
  {
   "cell_type": "markdown",
   "metadata": {},
   "source": [
    "When we split the data further it seems that female non-smokers seem to be the most consistent tippers looking at the clusters of their tips. There are 3 quite low tips amongst the female non-smokers, but otherwise they are very consistent. "
   ]
  },
  {
   "cell_type": "markdown",
   "metadata": {},
   "source": [
    "## Distribution of Tip Rate <a class=\"ancor\" id=\"tiprate\"/>"
   ]
  },
  {
   "cell_type": "code",
   "execution_count": 34,
   "metadata": {},
   "outputs": [
    {
     "data": {
      "text/plain": [
       "Text(0.5, 0, 'Tip Rate (%)')"
      ]
     },
     "execution_count": 34,
     "metadata": {},
     "output_type": "execute_result"
    },
    {
     "data": {
      "image/png": "[encoded data removed]",
      "text/plain": [
       "<Figure size 432x288 with 1 Axes>"
      ]
     },
     "metadata": {},
     "output_type": "display_data"
    }
   ],
   "source": [
    "sns.distplot(tips[\"tiprate\"], bins = 20)\n",
    "plt.title(\"Distribution of Tip Rate (%)\")\n",
    "plt.xlabel(\"Tip Rate (%)\")"
   ]
  },
  {
   "cell_type": "code",
   "execution_count": 35,
   "metadata": {},
   "outputs": [
    {
     "data": {
      "text/html": [
       "<div>\n",
       "<style scoped>\n",
       "    .dataframe tbody tr th:only-of-type {\n",
       "        vertical-align: middle;\n",
       "    }\n",
       "\n",
       "    .dataframe tbody tr th {\n",
       "        vertical-align: top;\n",
       "    }\n",
       "\n",
       "    .dataframe thead th {\n",
       "        text-align: right;\n",
       "    }\n",
       "</style>\n",
       "<table border=\"1\" class=\"dataframe\">\n",
       "  <thead>\n",
       "    <tr style=\"text-align: right;\">\n",
       "      <th></th>\n",
       "      <th>total_bill</th>\n",
       "      <th>tip</th>\n",
       "      <th>sex</th>\n",
       "      <th>smoker</th>\n",
       "      <th>day</th>\n",
       "      <th>time</th>\n",
       "      <th>size</th>\n",
       "      <th>tiprate</th>\n",
       "    </tr>\n",
       "  </thead>\n",
       "  <tbody>\n",
       "    <tr>\n",
       "      <th>172</th>\n",
       "      <td>7.25</td>\n",
       "      <td>5.15</td>\n",
       "      <td>Male</td>\n",
       "      <td>Yes</td>\n",
       "      <td>Sun</td>\n",
       "      <td>Dinner</td>\n",
       "      <td>2</td>\n",
       "      <td>71.034483</td>\n",
       "    </tr>\n",
       "    <tr>\n",
       "      <th>178</th>\n",
       "      <td>9.60</td>\n",
       "      <td>4.00</td>\n",
       "      <td>Female</td>\n",
       "      <td>Yes</td>\n",
       "      <td>Sun</td>\n",
       "      <td>Dinner</td>\n",
       "      <td>2</td>\n",
       "      <td>41.666667</td>\n",
       "    </tr>\n",
       "  </tbody>\n",
       "</table>\n",
       "</div>"
      ],
      "text/plain": [
       "     total_bill   tip     sex smoker  day    time  size    tiprate\n",
       "172        7.25  5.15    Male    Yes  Sun  Dinner     2  71.034483\n",
       "178        9.60  4.00  Female    Yes  Sun  Dinner     2  41.666667"
      ]
     },
     "execution_count": 35,
     "metadata": {},
     "output_type": "execute_result"
    }
   ],
   "source": [
    "# Getting all tips above 35% which would give us details about the outliers\n",
    "tips[tips['tiprate']>=35.0]"
   ]
  },
  {
   "cell_type": "markdown",
   "metadata": {},
   "source": [
    "When we plot the distribution of tip rate, all of the data looks skewed. This is mainly due to the 2 larger tips we noted earlier. \n",
    "\n",
    "Sample 172 gave a tip of 71% - this was paid by a male smoker for a table of 2, at dinner on Sunday - he left a \\\\$5.15 tip on a bill of \\\\$7.25. \n",
    "\n",
    "Sample 178 gave a tip of 42% - this was paid by a female smoker for a table of 2, at dinner on Sunday - she left a tip of \\\\$4 on a bill of \\\\$9.60."
   ]
  },
  {
   "cell_type": "code",
   "execution_count": 36,
   "metadata": {},
   "outputs": [
    {
     "data": {
      "text/plain": [
       "Text(0.5, 0, 'Tip Rate (%)')"
      ]
     },
     "execution_count": 36,
     "metadata": {},
     "output_type": "execute_result"
    },
    {
     "data": {
      "image/png": "[encoded data removed]",
      "text/plain": [
       "<Figure size 432x288 with 1 Axes>"
      ]
     },
     "metadata": {},
     "output_type": "display_data"
    }
   ],
   "source": [
    "# all tips less than 35%\n",
    "tiprate35 = tips.tiprate[tips['tiprate']<=35.0]\n",
    "sns.distplot(tiprate35, bins=20)\n",
    "plt.title(\"Distribution of Tip Rate Below 35%\")\n",
    "plt.xlabel(\"Tip Rate (%)\")"
   ]
  },
  {
   "cell_type": "markdown",
   "metadata": {},
   "source": [
    "When we remove the outliers (those tips above 35%), the distribution looks much more normally distributed."
   ]
  },
  {
   "cell_type": "code",
   "execution_count": 37,
   "metadata": {},
   "outputs": [
    {
     "data": {
      "text/plain": [
       "Text(0.5, 0, 'Tip Rate (%)')"
      ]
     },
     "execution_count": 37,
     "metadata": {},
     "output_type": "execute_result"
    },
    {
     "data": {
      "image/png": "[encoded data removed]",
      "text/plain": [
       "<Figure size 432x288 with 1 Axes>"
      ]
     },
     "metadata": {},
     "output_type": "display_data"
    }
   ],
   "source": [
    "# Getting the log of tiprate to see if it has an effect on skew\n",
    "logtiprate = np.log(tips.tiprate)\n",
    "sns.distplot(logtiprate, bins = 20)\n",
    "plt.title(\"Log Tip Rate Below 35%\")\n",
    "plt.xlabel(\"Tip Rate (%)\")"
   ]
  },
  {
   "cell_type": "markdown",
   "metadata": {},
   "source": [
    "## Table Size, Day and Time of Day <a class=\"ancor\" id=\"dayTime\"/>"
   ]
  },
  {
   "cell_type": "code",
   "execution_count": 38,
   "metadata": {},
   "outputs": [
    {
     "data": {
      "text/plain": [
       "Text(0.5, 0, 'Day')"
      ]
     },
     "execution_count": 38,
     "metadata": {},
     "output_type": "execute_result"
    },
    {
     "data": {
      "image/png": "[encoded data removed]",
      "text/plain": [
       "<Figure size 432x288 with 1 Axes>"
      ]
     },
     "metadata": {},
     "output_type": "display_data"
    }
   ],
   "source": [
    "ax = sns.stripplot( x=\"day\", y=\"total_bill\", dodge=True, hue=\"sex\", data=tips)\n",
    "plt.legend(loc='upper left')\n",
    "plt.title(\"Total Bill by Day and Gender\")\n",
    "plt.ylabel(\"Total Bill\")\n",
    "plt.xlabel(\"Day\")"
   ]
  },
  {
   "cell_type": "markdown",
   "metadata": {},
   "source": [
    "Here we see the distributions of the gender of the bill payers on the different days of the week. Thursday and Friday seem equal enough with similar numbers of males and females getting the bill. Saturday and Sunday seem to have more males than females paying the bill."
   ]
  },
  {
   "cell_type": "code",
   "execution_count": 39,
   "metadata": {},
   "outputs": [
    {
     "data": {
      "text/plain": [
       "Text(0.5, 1.0, 'Count of Smokers Seperated by Gender')"
      ]
     },
     "execution_count": 39,
     "metadata": {},
     "output_type": "execute_result"
    },
    {
     "data": {
      "image/png": "[encoded data removed]",
      "text/plain": [
       "<Figure size 432x288 with 1 Axes>"
      ]
     },
     "metadata": {},
     "output_type": "display_data"
    }
   ],
   "source": [
    "sns.countplot(x=\"smoker\",data=tips,hue=\"sex\")\n",
    "plt.title(\"Count of Smokers Seperated by Gender\")"
   ]
  },
  {
   "cell_type": "markdown",
   "metadata": {},
   "source": [
    "Above there is a count plot looking at Smoking Party and Sex of the Bill Payer. There doesn't seem to be too much of a relationship between smoking and gender as the rectangles are roughly equal and we know from above there were more male bill payers than female in general."
   ]
  },
  {
   "cell_type": "code",
   "execution_count": 40,
   "metadata": {},
   "outputs": [
    {
     "data": {
      "text/plain": [
       "Text(0.5, 1.0, 'Count of Customers by Day and Time')"
      ]
     },
     "execution_count": 40,
     "metadata": {},
     "output_type": "execute_result"
    },
    {
     "data": {
      "image/png": "[encoded data removed]",
      "text/plain": [
       "<Figure size 432x288 with 1 Axes>"
      ]
     },
     "metadata": {},
     "output_type": "display_data"
    }
   ],
   "source": [
    "sns.countplot(x=\"day\",data=tips,hue=\"time\")\n",
    "plt.title(\"Count of Customers by Day and Time\")"
   ]
  },
  {
   "cell_type": "markdown",
   "metadata": {},
   "source": [
    "In this plot we are looking at day vs mealtime. There were no measurements were taken for lunch time on Saturday or Sunday. Thursday has very few dinner time measurements and Friday has similar numbers of both lunch and dinner time readings."
   ]
  },
  {
   "cell_type": "code",
   "execution_count": 41,
   "metadata": {},
   "outputs": [
    {
     "data": {
      "text/plain": [
       "Text(0.5, 1.0, 'Count of Party Size by Gender')"
      ]
     },
     "execution_count": 41,
     "metadata": {},
     "output_type": "execute_result"
    },
    {
     "data": {
      "image/png": "[encoded data removed]",
      "text/plain": [
       "<Figure size 432x288 with 1 Axes>"
      ]
     },
     "metadata": {},
     "output_type": "display_data"
    }
   ],
   "source": [
    "sns.countplot(x=\"sex\",data=tips,hue=\"size\")\n",
    "plt.title(\"Count of Party Size by Gender\")"
   ]
  },
  {
   "cell_type": "markdown",
   "metadata": {},
   "source": [
    "This plot shows us that it is mostly parties of 2 with males paying for more of these bills that females. Tables of 1, 5 and 6 are not too frequent."
   ]
  },
  {
   "cell_type": "code",
   "execution_count": 42,
   "metadata": {},
   "outputs": [
    {
     "data": {
      "image/png": "[encoded data removed]",
      "text/plain": [
       "<Figure size 720x720 with 4 Axes>"
      ]
     },
     "metadata": {},
     "output_type": "display_data"
    }
   ],
   "source": [
    "g = sns.catplot(\"size\", col=\"day\", col_wrap=2,data=tips,kind=\"count\")"
   ]
  },
  {
   "cell_type": "markdown",
   "metadata": {},
   "source": [
    "Bigger tables (>2) are more popular at the weekend compared to Thursday and Friday."
   ]
  },
  {
   "cell_type": "code",
   "execution_count": 43,
   "metadata": {},
   "outputs": [
    {
     "data": {
      "text/plain": [
       "Text(0.5, 1.0, 'Gender of Bill Payer by Day')"
      ]
     },
     "execution_count": 43,
     "metadata": {},
     "output_type": "execute_result"
    },
    {
     "data": {
      "image/png": "[encoded data removed]",
      "text/plain": [
       "<Figure size 432x288 with 1 Axes>"
      ]
     },
     "metadata": {},
     "output_type": "display_data"
    }
   ],
   "source": [
    "sns.countplot(x=\"sex\",data=tips,hue=\"day\")\n",
    "plt.title(\"Gender of Bill Payer by Day\")"
   ]
  },
  {
   "cell_type": "markdown",
   "metadata": {},
   "source": [
    "Male and Female customers seem equally equal in who paid the bill on Thursday and Friday. On Saturday and Sunday more men than women paid the bill."
   ]
  },
  {
   "cell_type": "code",
   "execution_count": 57,
   "metadata": {},
   "outputs": [
    {
     "data": {
      "text/plain": [
       "<seaborn.axisgrid.FacetGrid at 0x1cf5d582780>"
      ]
     },
     "execution_count": 57,
     "metadata": {},
     "output_type": "execute_result"
    },
    {
     "data": {
      "image/png": "[encoded data removed]",
      "text/plain": [
       "<Figure size 1509.38x360 with 4 Axes>"
      ]
     },
     "metadata": {},
     "output_type": "display_data"
    }
   ],
   "source": [
    "# Plot looking at gender of bill payer, on different days and by size of party\n",
    "sns.catplot(x=\"size\", y=\"total_bill\",hue=\"sex\", col=\"day\",data=tips, kind=\"swarm\")"
   ]
  },
  {
   "cell_type": "markdown",
   "metadata": {},
   "source": [
    "More men seem to be paying the bill in tables of size 2, with the exception of Friday where they were roughly equal. Looking at tables of 1, the sex of the bill payer depends on the day of the week: males on Friday, females\n",
    "on Thursday and Saturday, and no tables of 1 on Sunday. Looking at tables of 3, Thursday saw roughly equal\n",
    "male and female bill payers. Friday had mostly females, Saturday more males. Sunday saw roughly equal between male and females getting the bill. Tables of 4 saw roughly equal males and females paying the bill on Thursday but more males got the bill on Friday to Sunday. Tables of 5 and 6 are not as common here as noted earlier."
   ]
  },
  {
   "cell_type": "markdown",
   "metadata": {},
   "source": [
    "## Regression"
   ]
  },
  {
   "cell_type": "code",
   "execution_count": 148,
   "metadata": {},
   "outputs": [
    {
     "data": {
      "text/plain": [
       "<matplotlib.axes._subplots.AxesSubplot at 0x17410bab240>"
      ]
     },
     "execution_count": 148,
     "metadata": {},
     "output_type": "execute_result"
    },
    {
     "data": {
      "image/png": "[encoded data removed]",
      "text/plain": [
       "<Figure size 1080x504 with 2 Axes>"
      ]
     },
     "metadata": {},
     "output_type": "display_data"
    }
   ],
   "source": [
    "sns.heatmap(tips.corr(),linecolor='white',linewidths=2,annot=True)"
   ]
  },
  {
   "cell_type": "code",
   "execution_count": 141,
   "metadata": {},
   "outputs": [
    {
     "data": {
      "image/png": "[encoded data removed]",
      "text/plain": [
       "<Figure size 1080x504 with 1 Axes>"
      ]
     },
     "metadata": {},
     "output_type": "display_data"
    }
   ],
   "source": [
    "sns.regplot(x=\"size\", y=\"tiprate\", data=tips);"
   ]
  },
  {
   "cell_type": "code",
   "execution_count": 46,
   "metadata": {},
   "outputs": [],
   "source": [
    "pd.get_dummies(tips)\n",
    "tips = pd.concat([pd.get_dummies(tips[['sex', 'smoker','day','time']]), tips[['total_bill', 'tip', 'size', 'tiprate']]], axis=1)\n"
   ]
  },
  {
   "cell_type": "code",
   "execution_count": 47,
   "metadata": {},
   "outputs": [
    {
     "data": {
      "text/html": [
       "<div>\n",
       "<style scoped>\n",
       "    .dataframe tbody tr th:only-of-type {\n",
       "        vertical-align: middle;\n",
       "    }\n",
       "\n",
       "    .dataframe tbody tr th {\n",
       "        vertical-align: top;\n",
       "    }\n",
       "\n",
       "    .dataframe thead th {\n",
       "        text-align: right;\n",
       "    }\n",
       "</style>\n",
       "<table border=\"1\" class=\"dataframe\">\n",
       "  <thead>\n",
       "    <tr style=\"text-align: right;\">\n",
       "      <th></th>\n",
       "      <th>sex_Male</th>\n",
       "      <th>sex_Female</th>\n",
       "      <th>smoker_Yes</th>\n",
       "      <th>smoker_No</th>\n",
       "      <th>day_Thur</th>\n",
       "      <th>day_Fri</th>\n",
       "      <th>day_Sat</th>\n",
       "      <th>day_Sun</th>\n",
       "      <th>time_Lunch</th>\n",
       "      <th>time_Dinner</th>\n",
       "      <th>total_bill</th>\n",
       "      <th>tip</th>\n",
       "      <th>size</th>\n",
       "      <th>tiprate</th>\n",
       "    </tr>\n",
       "  </thead>\n",
       "  <tbody>\n",
       "    <tr>\n",
       "      <th>0</th>\n",
       "      <td>0</td>\n",
       "      <td>1</td>\n",
       "      <td>0</td>\n",
       "      <td>1</td>\n",
       "      <td>0</td>\n",
       "      <td>0</td>\n",
       "      <td>0</td>\n",
       "      <td>1</td>\n",
       "      <td>0</td>\n",
       "      <td>1</td>\n",
       "      <td>16.99</td>\n",
       "      <td>1.01</td>\n",
       "      <td>2</td>\n",
       "      <td>5.944673</td>\n",
       "    </tr>\n",
       "    <tr>\n",
       "      <th>1</th>\n",
       "      <td>1</td>\n",
       "      <td>0</td>\n",
       "      <td>0</td>\n",
       "      <td>1</td>\n",
       "      <td>0</td>\n",
       "      <td>0</td>\n",
       "      <td>0</td>\n",
       "      <td>1</td>\n",
       "      <td>0</td>\n",
       "      <td>1</td>\n",
       "      <td>10.34</td>\n",
       "      <td>1.66</td>\n",
       "      <td>3</td>\n",
       "      <td>16.054159</td>\n",
       "    </tr>\n",
       "    <tr>\n",
       "      <th>2</th>\n",
       "      <td>1</td>\n",
       "      <td>0</td>\n",
       "      <td>0</td>\n",
       "      <td>1</td>\n",
       "      <td>0</td>\n",
       "      <td>0</td>\n",
       "      <td>0</td>\n",
       "      <td>1</td>\n",
       "      <td>0</td>\n",
       "      <td>1</td>\n",
       "      <td>21.01</td>\n",
       "      <td>3.50</td>\n",
       "      <td>3</td>\n",
       "      <td>16.658734</td>\n",
       "    </tr>\n",
       "    <tr>\n",
       "      <th>3</th>\n",
       "      <td>1</td>\n",
       "      <td>0</td>\n",
       "      <td>0</td>\n",
       "      <td>1</td>\n",
       "      <td>0</td>\n",
       "      <td>0</td>\n",
       "      <td>0</td>\n",
       "      <td>1</td>\n",
       "      <td>0</td>\n",
       "      <td>1</td>\n",
       "      <td>23.68</td>\n",
       "      <td>3.31</td>\n",
       "      <td>2</td>\n",
       "      <td>13.978041</td>\n",
       "    </tr>\n",
       "    <tr>\n",
       "      <th>4</th>\n",
       "      <td>0</td>\n",
       "      <td>1</td>\n",
       "      <td>0</td>\n",
       "      <td>1</td>\n",
       "      <td>0</td>\n",
       "      <td>0</td>\n",
       "      <td>0</td>\n",
       "      <td>1</td>\n",
       "      <td>0</td>\n",
       "      <td>1</td>\n",
       "      <td>24.59</td>\n",
       "      <td>3.61</td>\n",
       "      <td>4</td>\n",
       "      <td>14.680765</td>\n",
       "    </tr>\n",
       "  </tbody>\n",
       "</table>\n",
       "</div>"
      ],
      "text/plain": [
       "   sex_Male  sex_Female  smoker_Yes  smoker_No  day_Thur  day_Fri  day_Sat  \\\n",
       "0         0           1           0          1         0        0        0   \n",
       "1         1           0           0          1         0        0        0   \n",
       "2         1           0           0          1         0        0        0   \n",
       "3         1           0           0          1         0        0        0   \n",
       "4         0           1           0          1         0        0        0   \n",
       "\n",
       "   day_Sun  time_Lunch  time_Dinner  total_bill   tip  size    tiprate  \n",
       "0        1           0            1       16.99  1.01     2   5.944673  \n",
       "1        1           0            1       10.34  1.66     3  16.054159  \n",
       "2        1           0            1       21.01  3.50     3  16.658734  \n",
       "3        1           0            1       23.68  3.31     2  13.978041  \n",
       "4        1           0            1       24.59  3.61     4  14.680765  "
      ]
     },
     "execution_count": 47,
     "metadata": {},
     "output_type": "execute_result"
    }
   ],
   "source": [
    "tips.head()"
   ]
  },
  {
   "cell_type": "code",
   "execution_count": 48,
   "metadata": {},
   "outputs": [
    {
     "data": {
      "text/html": [
       "<table class=\"simpletable\">\n",
       "<caption>OLS Regression Results</caption>\n",
       "<tr>\n",
       "  <th>Dep. Variable:</th>         <td>tiprate</td>     <th>  R-squared:         </th> <td>   0.042</td>\n",
       "</tr>\n",
       "<tr>\n",
       "  <th>Model:</th>                   <td>OLS</td>       <th>  Adj. R-squared:    </th> <td>   0.014</td>\n",
       "</tr>\n",
       "<tr>\n",
       "  <th>Method:</th>             <td>Least Squares</td>  <th>  F-statistic:       </th> <td>   1.479</td>\n",
       "</tr>\n",
       "<tr>\n",
       "  <th>Date:</th>             <td>Wed, 23 Oct 2019</td> <th>  Prob (F-statistic):</th>  <td> 0.175</td> \n",
       "</tr>\n",
       "<tr>\n",
       "  <th>Time:</th>                 <td>11:23:14</td>     <th>  Log-Likelihood:    </th> <td> -781.99</td>\n",
       "</tr>\n",
       "<tr>\n",
       "  <th>No. Observations:</th>      <td>   244</td>      <th>  AIC:               </th> <td>   1580.</td>\n",
       "</tr>\n",
       "<tr>\n",
       "  <th>Df Residuals:</th>          <td>   236</td>      <th>  BIC:               </th> <td>   1608.</td>\n",
       "</tr>\n",
       "<tr>\n",
       "  <th>Df Model:</th>              <td>     7</td>      <th>                     </th>     <td> </td>   \n",
       "</tr>\n",
       "<tr>\n",
       "  <th>Covariance Type:</th>      <td>nonrobust</td>    <th>                     </th>     <td> </td>   \n",
       "</tr>\n",
       "</table>\n",
       "<table class=\"simpletable\">\n",
       "<tr>\n",
       "           <td></td>             <th>coef</th>     <th>std err</th>      <th>t</th>      <th>P>|t|</th>  <th>[0.025</th>    <th>0.975]</th>  \n",
       "</tr>\n",
       "<tr>\n",
       "  <th>Intercept</th>          <td>   19.9862</td> <td>    1.528</td> <td>   13.081</td> <td> 0.000</td> <td>   16.976</td> <td>   22.996</td>\n",
       "</tr>\n",
       "<tr>\n",
       "  <th>C(sex_Male)[T.1]</th>   <td>   -0.8543</td> <td>    0.835</td> <td>   -1.023</td> <td> 0.307</td> <td>   -2.499</td> <td>    0.790</td>\n",
       "</tr>\n",
       "<tr>\n",
       "  <th>C(smoker_Yes)[T.1]</th> <td>    0.3637</td> <td>    0.850</td> <td>    0.428</td> <td> 0.669</td> <td>   -1.310</td> <td>    2.038</td>\n",
       "</tr>\n",
       "<tr>\n",
       "  <th>C(day_Thur)[T.1]</th>   <td>   -3.4848</td> <td>    2.781</td> <td>   -1.253</td> <td> 0.211</td> <td>   -8.964</td> <td>    1.995</td>\n",
       "</tr>\n",
       "<tr>\n",
       "  <th>C(day_Fri)[T.1]</th>    <td>   -1.6672</td> <td>    1.902</td> <td>   -0.876</td> <td> 0.382</td> <td>   -5.415</td> <td>    2.080</td>\n",
       "</tr>\n",
       "<tr>\n",
       "  <th>C(day_Sat)[T.1]</th>    <td>   -1.8445</td> <td>    0.982</td> <td>   -1.878</td> <td> 0.062</td> <td>   -3.780</td> <td>    0.091</td>\n",
       "</tr>\n",
       "<tr>\n",
       "  <th>C(time_Lunch)[T.1]</th> <td>    2.3371</td> <td>    2.612</td> <td>    0.895</td> <td> 0.372</td> <td>   -2.808</td> <td>    7.483</td>\n",
       "</tr>\n",
       "<tr>\n",
       "  <th>size</th>               <td>   -0.9625</td> <td>    0.422</td> <td>   -2.282</td> <td> 0.023</td> <td>   -1.793</td> <td>   -0.132</td>\n",
       "</tr>\n",
       "</table>\n",
       "<table class=\"simpletable\">\n",
       "<tr>\n",
       "  <th>Omnibus:</th>       <td>214.408</td> <th>  Durbin-Watson:     </th> <td>   2.098</td>\n",
       "</tr>\n",
       "<tr>\n",
       "  <th>Prob(Omnibus):</th> <td> 0.000</td>  <th>  Jarque-Bera (JB):  </th> <td>7088.439</td>\n",
       "</tr>\n",
       "<tr>\n",
       "  <th>Skew:</th>          <td> 3.189</td>  <th>  Prob(JB):          </th> <td>    0.00</td>\n",
       "</tr>\n",
       "<tr>\n",
       "  <th>Kurtosis:</th>      <td>28.623</td>  <th>  Cond. No.          </th> <td>    30.5</td>\n",
       "</tr>\n",
       "</table><br/><br/>Warnings:<br/>[1] Standard Errors assume that the covariance matrix of the errors is correctly specified."
      ],
      "text/plain": [
       "<class 'statsmodels.iolib.summary.Summary'>\n",
       "\"\"\"\n",
       "                            OLS Regression Results                            \n",
       "==============================================================================\n",
       "Dep. Variable:                tiprate   R-squared:                       0.042\n",
       "Model:                            OLS   Adj. R-squared:                  0.014\n",
       "Method:                 Least Squares   F-statistic:                     1.479\n",
       "Date:                Wed, 23 Oct 2019   Prob (F-statistic):              0.175\n",
       "Time:                        11:23:14   Log-Likelihood:                -781.99\n",
       "No. Observations:                 244   AIC:                             1580.\n",
       "Df Residuals:                     236   BIC:                             1608.\n",
       "Df Model:                           7                                         \n",
       "Covariance Type:            nonrobust                                         \n",
       "======================================================================================\n",
       "                         coef    std err          t      P>|t|      [0.025      0.975]\n",
       "--------------------------------------------------------------------------------------\n",
       "Intercept             19.9862      1.528     13.081      0.000      16.976      22.996\n",
       "C(sex_Male)[T.1]      -0.8543      0.835     -1.023      0.307      -2.499       0.790\n",
       "C(smoker_Yes)[T.1]     0.3637      0.850      0.428      0.669      -1.310       2.038\n",
       "C(day_Thur)[T.1]      -3.4848      2.781     -1.253      0.211      -8.964       1.995\n",
       "C(day_Fri)[T.1]       -1.6672      1.902     -0.876      0.382      -5.415       2.080\n",
       "C(day_Sat)[T.1]       -1.8445      0.982     -1.878      0.062      -3.780       0.091\n",
       "C(time_Lunch)[T.1]     2.3371      2.612      0.895      0.372      -2.808       7.483\n",
       "size                  -0.9625      0.422     -2.282      0.023      -1.793      -0.132\n",
       "==============================================================================\n",
       "Omnibus:                      214.408   Durbin-Watson:                   2.098\n",
       "Prob(Omnibus):                  0.000   Jarque-Bera (JB):             7088.439\n",
       "Skew:                           3.189   Prob(JB):                         0.00\n",
       "Kurtosis:                      28.623   Cond. No.                         30.5\n",
       "==============================================================================\n",
       "\n",
       "Warnings:\n",
       "[1] Standard Errors assume that the covariance matrix of the errors is correctly specified.\n",
       "\"\"\""
      ]
     },
     "execution_count": 48,
     "metadata": {},
     "output_type": "execute_result"
    }
   ],
   "source": [
    "# omit Sun\n",
    "from statsmodels.formula.api import ols\n",
    "model = ols(\"tiprate ~ C(sex_Male) + C(smoker_Yes) + C(day_Thur) + C(day_Fri) + C(day_Sat) + C(time_Lunch) + size\", data=tips)\n",
    "results = model.fit()\n",
    "results.summary()"
   ]
  },
  {
   "cell_type": "code",
   "execution_count": 49,
   "metadata": {},
   "outputs": [
    {
     "data": {
      "text/plain": [
       "172    71.034483\n",
       "178    41.666667\n",
       "Name: tiprate, dtype: float64"
      ]
     },
     "execution_count": 49,
     "metadata": {},
     "output_type": "execute_result"
    }
   ],
   "source": [
    "# removing outlier tips\n",
    "tips.tiprate[tips['tiprate']>35.0]"
   ]
  },
  {
   "cell_type": "code",
   "execution_count": 50,
   "metadata": {},
   "outputs": [],
   "source": [
    "tips = tips.drop([tips.index[172] , tips.index[178]])"
   ]
  },
  {
   "cell_type": "code",
   "execution_count": 51,
   "metadata": {},
   "outputs": [
    {
     "name": "stdout",
     "output_type": "stream",
     "text": [
      "                            OLS Regression Results                            \n",
      "==============================================================================\n",
      "Dep. Variable:                tiprate   R-squared:                       0.021\n",
      "Model:                            OLS   Adj. R-squared:                  0.016\n",
      "Method:                 Least Squares   F-statistic:                     5.034\n",
      "Date:                Wed, 23 Oct 2019   Prob (F-statistic):             0.0258\n",
      "Time:                        11:23:14   Log-Likelihood:                -715.75\n",
      "No. Observations:                 242   AIC:                             1435.\n",
      "Df Residuals:                     240   BIC:                             1442.\n",
      "Df Model:                           1                                         \n",
      "Covariance Type:            nonrobust                                         \n",
      "==============================================================================\n",
      "                 coef    std err          t      P>|t|      [0.025      0.975]\n",
      "------------------------------------------------------------------------------\n",
      "const         17.5727      0.867     20.262      0.000      15.864      19.281\n",
      "size          -0.7090      0.316     -2.244      0.026      -1.331      -0.087\n",
      "==============================================================================\n",
      "Omnibus:                        3.679   Durbin-Watson:                   2.018\n",
      "Prob(Omnibus):                  0.159   Jarque-Bera (JB):                3.361\n",
      "Skew:                           0.228   Prob(JB):                        0.186\n",
      "Kurtosis:                       3.355   Cond. No.                         8.85\n",
      "==============================================================================\n",
      "\n",
      "Warnings:\n",
      "[1] Standard Errors assume that the covariance matrix of the errors is correctly specified.\n"
     ]
    }
   ],
   "source": [
    "X = tips['size']\n",
    "Y = tips['tiprate']\n",
    "\n",
    "X = sm.add_constant(X) # adding a constant\n",
    "\n",
    "\n",
    "model = sm.OLS(Y, X).fit()\n",
    "predictions = model.predict(X) \n",
    "\n",
    "print_model = model.summary()\n",
    "print(print_model)\n",
    "# model becomes tiprate 18.4 - 0.91 x size (coef column)\n",
    "# tiprate drops from 18% by 1% for each extra person at the table"
   ]
  },
  {
   "cell_type": "code",
   "execution_count": 52,
   "metadata": {},
   "outputs": [
    {
     "name": "stdout",
     "output_type": "stream",
     "text": [
      "                            OLS Regression Results                            \n",
      "==============================================================================\n",
      "Dep. Variable:                tiprate   R-squared:                       0.021\n",
      "Model:                            OLS   Adj. R-squared:                  0.016\n",
      "Method:                 Least Squares   F-statistic:                     5.034\n",
      "Date:                Wed, 23 Oct 2019   Prob (F-statistic):             0.0258\n",
      "Time:                        11:23:14   Log-Likelihood:                -715.75\n",
      "No. Observations:                 242   AIC:                             1435.\n",
      "Df Residuals:                     240   BIC:                             1442.\n",
      "Df Model:                           1                                         \n",
      "Covariance Type:            nonrobust                                         \n",
      "==============================================================================\n",
      "                 coef    std err          t      P>|t|      [0.025      0.975]\n",
      "------------------------------------------------------------------------------\n",
      "const         17.5727      0.867     20.262      0.000      15.864      19.281\n",
      "size          -0.7090      0.316     -2.244      0.026      -1.331      -0.087\n",
      "==============================================================================\n",
      "Omnibus:                        3.679   Durbin-Watson:                   2.018\n",
      "Prob(Omnibus):                  0.159   Jarque-Bera (JB):                3.361\n",
      "Skew:                           0.228   Prob(JB):                        0.186\n",
      "Kurtosis:                       3.355   Cond. No.                         8.85\n",
      "==============================================================================\n",
      "\n",
      "Warnings:\n",
      "[1] Standard Errors assume that the covariance matrix of the errors is correctly specified.\n"
     ]
    }
   ],
   "source": [
    "X = tips['size']\n",
    "Y = tips['tiprate']\n",
    "\n",
    "X = sm.add_constant(X) # adding a constant\n",
    "\n",
    "\n",
    "model = sm.OLS(Y, X).fit()\n",
    "predictions = model.predict(X) \n",
    "\n",
    "print_model = model.summary()\n",
    "print(print_model)\n",
    "# model becomes tiprate 17.5 - 0.7 x size"
   ]
  },
  {
   "cell_type": "code",
   "execution_count": 53,
   "metadata": {},
   "outputs": [
    {
     "data": {
      "text/html": [
       "<table class=\"simpletable\">\n",
       "<caption>OLS Regression Results</caption>\n",
       "<tr>\n",
       "  <th>Dep. Variable:</th>     <td>np.log(tiprate)</td> <th>  R-squared:         </th> <td>   0.056</td>\n",
       "</tr>\n",
       "<tr>\n",
       "  <th>Model:</th>                   <td>OLS</td>       <th>  Adj. R-squared:    </th> <td>   0.027</td>\n",
       "</tr>\n",
       "<tr>\n",
       "  <th>Method:</th>             <td>Least Squares</td>  <th>  F-statistic:       </th> <td>   1.972</td>\n",
       "</tr>\n",
       "<tr>\n",
       "  <th>Date:</th>             <td>Wed, 23 Oct 2019</td> <th>  Prob (F-statistic):</th>  <td>0.0597</td> \n",
       "</tr>\n",
       "<tr>\n",
       "  <th>Time:</th>                 <td>11:23:14</td>     <th>  Log-Likelihood:    </th> <td> -68.228</td>\n",
       "</tr>\n",
       "<tr>\n",
       "  <th>No. Observations:</th>      <td>   242</td>      <th>  AIC:               </th> <td>   152.5</td>\n",
       "</tr>\n",
       "<tr>\n",
       "  <th>Df Residuals:</th>          <td>   234</td>      <th>  BIC:               </th> <td>   180.4</td>\n",
       "</tr>\n",
       "<tr>\n",
       "  <th>Df Model:</th>              <td>     7</td>      <th>                     </th>     <td> </td>   \n",
       "</tr>\n",
       "<tr>\n",
       "  <th>Covariance Type:</th>      <td>nonrobust</td>    <th>                     </th>     <td> </td>   \n",
       "</tr>\n",
       "</table>\n",
       "<table class=\"simpletable\">\n",
       "<tr>\n",
       "           <td></td>             <th>coef</th>     <th>std err</th>      <th>t</th>      <th>P>|t|</th>  <th>[0.025</th>    <th>0.975]</th>  \n",
       "</tr>\n",
       "<tr>\n",
       "  <th>Intercept</th>          <td>    2.8795</td> <td>    0.083</td> <td>   34.720</td> <td> 0.000</td> <td>    2.716</td> <td>    3.043</td>\n",
       "</tr>\n",
       "<tr>\n",
       "  <th>C(sex_Male)[T.1]</th>   <td>   -0.0475</td> <td>    0.045</td> <td>   -1.051</td> <td> 0.294</td> <td>   -0.136</td> <td>    0.042</td>\n",
       "</tr>\n",
       "<tr>\n",
       "  <th>C(smoker_Yes)[T.1]</th> <td>   -0.0940</td> <td>    0.046</td> <td>   -2.035</td> <td> 0.043</td> <td>   -0.185</td> <td>   -0.003</td>\n",
       "</tr>\n",
       "<tr>\n",
       "  <th>C(day_Thur)[T.1]</th>   <td>   -0.1236</td> <td>    0.150</td> <td>   -0.826</td> <td> 0.410</td> <td>   -0.419</td> <td>    0.171</td>\n",
       "</tr>\n",
       "<tr>\n",
       "  <th>C(day_Fri)[T.1]</th>    <td>    0.0519</td> <td>    0.103</td> <td>    0.504</td> <td> 0.615</td> <td>   -0.151</td> <td>    0.255</td>\n",
       "</tr>\n",
       "<tr>\n",
       "  <th>C(day_Sat)[T.1]</th>    <td>   -0.0255</td> <td>    0.054</td> <td>   -0.476</td> <td> 0.635</td> <td>   -0.131</td> <td>    0.080</td>\n",
       "</tr>\n",
       "<tr>\n",
       "  <th>C(time_Lunch)[T.1]</th> <td>    0.1535</td> <td>    0.140</td> <td>    1.093</td> <td> 0.276</td> <td>   -0.123</td> <td>    0.430</td>\n",
       "</tr>\n",
       "<tr>\n",
       "  <th>size</th>               <td>   -0.0440</td> <td>    0.023</td> <td>   -1.934</td> <td> 0.054</td> <td>   -0.089</td> <td>    0.001</td>\n",
       "</tr>\n",
       "</table>\n",
       "<table class=\"simpletable\">\n",
       "<tr>\n",
       "  <th>Omnibus:</th>       <td>27.698</td> <th>  Durbin-Watson:     </th> <td>   1.985</td>\n",
       "</tr>\n",
       "<tr>\n",
       "  <th>Prob(Omnibus):</th> <td> 0.000</td> <th>  Jarque-Bera (JB):  </th> <td>  40.162</td>\n",
       "</tr>\n",
       "<tr>\n",
       "  <th>Skew:</th>          <td>-0.714</td> <th>  Prob(JB):          </th> <td>1.90e-09</td>\n",
       "</tr>\n",
       "<tr>\n",
       "  <th>Kurtosis:</th>      <td> 4.395</td> <th>  Cond. No.          </th> <td>    30.5</td>\n",
       "</tr>\n",
       "</table><br/><br/>Warnings:<br/>[1] Standard Errors assume that the covariance matrix of the errors is correctly specified."
      ],
      "text/plain": [
       "<class 'statsmodels.iolib.summary.Summary'>\n",
       "\"\"\"\n",
       "                            OLS Regression Results                            \n",
       "==============================================================================\n",
       "Dep. Variable:        np.log(tiprate)   R-squared:                       0.056\n",
       "Model:                            OLS   Adj. R-squared:                  0.027\n",
       "Method:                 Least Squares   F-statistic:                     1.972\n",
       "Date:                Wed, 23 Oct 2019   Prob (F-statistic):             0.0597\n",
       "Time:                        11:23:14   Log-Likelihood:                -68.228\n",
       "No. Observations:                 242   AIC:                             152.5\n",
       "Df Residuals:                     234   BIC:                             180.4\n",
       "Df Model:                           7                                         \n",
       "Covariance Type:            nonrobust                                         \n",
       "======================================================================================\n",
       "                         coef    std err          t      P>|t|      [0.025      0.975]\n",
       "--------------------------------------------------------------------------------------\n",
       "Intercept              2.8795      0.083     34.720      0.000       2.716       3.043\n",
       "C(sex_Male)[T.1]      -0.0475      0.045     -1.051      0.294      -0.136       0.042\n",
       "C(smoker_Yes)[T.1]    -0.0940      0.046     -2.035      0.043      -0.185      -0.003\n",
       "C(day_Thur)[T.1]      -0.1236      0.150     -0.826      0.410      -0.419       0.171\n",
       "C(day_Fri)[T.1]        0.0519      0.103      0.504      0.615      -0.151       0.255\n",
       "C(day_Sat)[T.1]       -0.0255      0.054     -0.476      0.635      -0.131       0.080\n",
       "C(time_Lunch)[T.1]     0.1535      0.140      1.093      0.276      -0.123       0.430\n",
       "size                  -0.0440      0.023     -1.934      0.054      -0.089       0.001\n",
       "==============================================================================\n",
       "Omnibus:                       27.698   Durbin-Watson:                   1.985\n",
       "Prob(Omnibus):                  0.000   Jarque-Bera (JB):               40.162\n",
       "Skew:                          -0.714   Prob(JB):                     1.90e-09\n",
       "Kurtosis:                       4.395   Cond. No.                         30.5\n",
       "==============================================================================\n",
       "\n",
       "Warnings:\n",
       "[1] Standard Errors assume that the covariance matrix of the errors is correctly specified.\n",
       "\"\"\""
      ]
     },
     "execution_count": 53,
     "metadata": {},
     "output_type": "execute_result"
    }
   ],
   "source": [
    "from statsmodels.formula.api import ols\n",
    "model = ols(\"np.log(tiprate) ~ C(sex_Male) + C(smoker_Yes) + C(day_Thur) + C(day_Fri) + C(day_Sat) + C(time_Lunch) + size\", data=tips)\n",
    "results = model.fit()\n",
    "results.summary()\n",
    "# log is pretty much the same so we'll stick with untransformed~"
   ]
  },
  {
   "cell_type": "code",
   "execution_count": 54,
   "metadata": {},
   "outputs": [
    {
     "data": {
      "text/plain": [
       "<seaborn.axisgrid.FacetGrid at 0x2c982de1550>"
      ]
     },
     "execution_count": 54,
     "metadata": {},
     "output_type": "execute_result"
    },
    {
     "data": {
      "image/png": "[encoded data removed]",
      "text/plain": [
       "<Figure size 360x360 with 1 Axes>"
      ]
     },
     "metadata": {
      "needs_background": "light"
     },
     "output_type": "display_data"
    }
   ],
   "source": [
    "sns.lmplot(x=\"size\", y=\"tiprate\" ,data=tips)"
   ]
  },
  {
   "cell_type": "markdown",
   "metadata": {},
   "source": [
    "Sex and smoking or not?"
   ]
  },
  {
   "cell_type": "code",
   "execution_count": 55,
   "metadata": {
    "scrolled": true
   },
   "outputs": [
    {
     "data": {
      "text/html": [
       "<table class=\"simpletable\">\n",
       "<caption>OLS Regression Results</caption>\n",
       "<tr>\n",
       "  <th>Dep. Variable:</th>         <td>tiprate</td>     <th>  R-squared:         </th> <td>   0.061</td>\n",
       "</tr>\n",
       "<tr>\n",
       "  <th>Model:</th>                   <td>OLS</td>       <th>  Adj. R-squared:    </th> <td>   0.045</td>\n",
       "</tr>\n",
       "<tr>\n",
       "  <th>Method:</th>             <td>Least Squares</td>  <th>  F-statistic:       </th> <td>   3.833</td>\n",
       "</tr>\n",
       "<tr>\n",
       "  <th>Date:</th>             <td>Wed, 23 Oct 2019</td> <th>  Prob (F-statistic):</th>  <td>0.00488</td>\n",
       "</tr>\n",
       "<tr>\n",
       "  <th>Time:</th>                 <td>11:23:15</td>     <th>  Log-Likelihood:    </th> <td> -710.68</td>\n",
       "</tr>\n",
       "<tr>\n",
       "  <th>No. Observations:</th>      <td>   242</td>      <th>  AIC:               </th> <td>   1431.</td>\n",
       "</tr>\n",
       "<tr>\n",
       "  <th>Df Residuals:</th>          <td>   237</td>      <th>  BIC:               </th> <td>   1449.</td>\n",
       "</tr>\n",
       "<tr>\n",
       "  <th>Df Model:</th>              <td>     4</td>      <th>                     </th>     <td> </td>   \n",
       "</tr>\n",
       "<tr>\n",
       "  <th>Covariance Type:</th>      <td>nonrobust</td>    <th>                     </th>     <td> </td>   \n",
       "</tr>\n",
       "</table>\n",
       "<table class=\"simpletable\">\n",
       "<tr>\n",
       "                   <td></td>                      <th>coef</th>     <th>std err</th>      <th>t</th>      <th>P>|t|</th>  <th>[0.025</th>    <th>0.975]</th>  \n",
       "</tr>\n",
       "<tr>\n",
       "  <th>Intercept</th>                           <td>   17.4763</td> <td>    1.030</td> <td>   16.959</td> <td> 0.000</td> <td>   15.446</td> <td>   19.506</td>\n",
       "</tr>\n",
       "<tr>\n",
       "  <th>C(sex_Male)[T.1]</th>                    <td>    0.4565</td> <td>    0.784</td> <td>    0.583</td> <td> 0.561</td> <td>   -1.087</td> <td>    2.000</td>\n",
       "</tr>\n",
       "<tr>\n",
       "  <th>C(smoker_Yes)[T.1]</th>                  <td>    1.5543</td> <td>    1.034</td> <td>    1.503</td> <td> 0.134</td> <td>   -0.483</td> <td>    3.591</td>\n",
       "</tr>\n",
       "<tr>\n",
       "  <th>C(sex_Male)[T.1]:C(smoker_Yes)[T.1]</th> <td>   -3.4287</td> <td>    1.280</td> <td>   -2.678</td> <td> 0.008</td> <td>   -5.951</td> <td>   -0.907</td>\n",
       "</tr>\n",
       "<tr>\n",
       "  <th>size</th>                                <td>   -0.6882</td> <td>    0.315</td> <td>   -2.182</td> <td> 0.030</td> <td>   -1.309</td> <td>   -0.067</td>\n",
       "</tr>\n",
       "</table>\n",
       "<table class=\"simpletable\">\n",
       "<tr>\n",
       "  <th>Omnibus:</th>       <td> 4.735</td> <th>  Durbin-Watson:     </th> <td>   2.056</td>\n",
       "</tr>\n",
       "<tr>\n",
       "  <th>Prob(Omnibus):</th> <td> 0.094</td> <th>  Jarque-Bera (JB):  </th> <td>   4.422</td>\n",
       "</tr>\n",
       "<tr>\n",
       "  <th>Skew:</th>          <td> 0.278</td> <th>  Prob(JB):          </th> <td>   0.110</td>\n",
       "</tr>\n",
       "<tr>\n",
       "  <th>Kurtosis:</th>      <td> 3.359</td> <th>  Cond. No.          </th> <td>    17.5</td>\n",
       "</tr>\n",
       "</table><br/><br/>Warnings:<br/>[1] Standard Errors assume that the covariance matrix of the errors is correctly specified."
      ],
      "text/plain": [
       "<class 'statsmodels.iolib.summary.Summary'>\n",
       "\"\"\"\n",
       "                            OLS Regression Results                            \n",
       "==============================================================================\n",
       "Dep. Variable:                tiprate   R-squared:                       0.061\n",
       "Model:                            OLS   Adj. R-squared:                  0.045\n",
       "Method:                 Least Squares   F-statistic:                     3.833\n",
       "Date:                Wed, 23 Oct 2019   Prob (F-statistic):            0.00488\n",
       "Time:                        11:23:15   Log-Likelihood:                -710.68\n",
       "No. Observations:                 242   AIC:                             1431.\n",
       "Df Residuals:                     237   BIC:                             1449.\n",
       "Df Model:                           4                                         \n",
       "Covariance Type:            nonrobust                                         \n",
       "=======================================================================================================\n",
       "                                          coef    std err          t      P>|t|      [0.025      0.975]\n",
       "-------------------------------------------------------------------------------------------------------\n",
       "Intercept                              17.4763      1.030     16.959      0.000      15.446      19.506\n",
       "C(sex_Male)[T.1]                        0.4565      0.784      0.583      0.561      -1.087       2.000\n",
       "C(smoker_Yes)[T.1]                      1.5543      1.034      1.503      0.134      -0.483       3.591\n",
       "C(sex_Male)[T.1]:C(smoker_Yes)[T.1]    -3.4287      1.280     -2.678      0.008      -5.951      -0.907\n",
       "size                                   -0.6882      0.315     -2.182      0.030      -1.309      -0.067\n",
       "==============================================================================\n",
       "Omnibus:                        4.735   Durbin-Watson:                   2.056\n",
       "Prob(Omnibus):                  0.094   Jarque-Bera (JB):                4.422\n",
       "Skew:                           0.278   Prob(JB):                        0.110\n",
       "Kurtosis:                       3.359   Cond. No.                         17.5\n",
       "==============================================================================\n",
       "\n",
       "Warnings:\n",
       "[1] Standard Errors assume that the covariance matrix of the errors is correctly specified.\n",
       "\"\"\""
      ]
     },
     "execution_count": 55,
     "metadata": {},
     "output_type": "execute_result"
    }
   ],
   "source": [
    "model = ols(\"tiprate ~ C(sex_Male)*C(smoker_Yes) + size + C(sex_Male) + C(smoker_Yes)\", data=tips)\n",
    "results = model.fit()\n",
    "results.summary()"
   ]
  },
  {
   "cell_type": "markdown",
   "metadata": {},
   "source": [
    "- 0.18 tiprate\n",
    "- minus 0.68% tip for each additional party memeber\n",
    "- minus 0.45% for a female paying\n",
    "\n",
    "- smoking party -1.55% in tip\n",
    "- sex times smoker - if a female pays for a smoking bill +3% in tip. Roughly matches plots above!\n",
    "\n",
    "coef are significantly different from 0, the model still doesn't really explain the enough about the variation in tiprate"
   ]
  },
  {
   "cell_type": "code",
   "execution_count": null,
   "metadata": {},
   "outputs": [],
   "source": []
  }
 ],
 "metadata": {
  "kernelspec": {
   "display_name": "Python 3",
   "language": "python",
   "name": "python3"
  },
  "language_info": {
   "codemirror_mode": {
    "name": "ipython",
    "version": 3
   },
   "file_extension": ".py",
   "mimetype": "text/x-python",
   "name": "python",
   "nbconvert_exporter": "python",
   "pygments_lexer": "ipython3",
   "version": "3.7.1"
  }
 },
 "nbformat": 4,
 "nbformat_minor": 2
}
